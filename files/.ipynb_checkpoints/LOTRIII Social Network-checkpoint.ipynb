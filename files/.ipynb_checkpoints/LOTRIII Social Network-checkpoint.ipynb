{
 "cells": [
  {
   "cell_type": "code",
   "execution_count": 1,
   "metadata": {
    "collapsed": true
   },
   "outputs": [],
   "source": [
    "from HTMLParser import HTMLParser\n",
    "import numpy as np\n",
    "from __future__ import division\n",
    "import vincent\n",
    "import nltk\n",
    "from nltk.corpus import stopwords\n",
    "from nltk import FreqDist\n",
    "import pandas as pd"
   ]
  },
  {
   "cell_type": "code",
   "execution_count": 2,
   "metadata": {
    "collapsed": false
   },
   "outputs": [],
   "source": [
    "# Load the script\n",
    "with open('script_LOTRIII.html', 'r') as myfile:\n",
    "    script=myfile.read().replace('\\n', '')\n",
    "\n",
    "# Modify the script to fix some issues.\n",
    "script = script.replace(\" O.S\", \"-\")\n",
    "script = script.replace(\"G AN DA LF\", \"GANDALF\")\n",
    "script = script.replace(\"CANDALF\", \"GANDALF\")\n",
    "script = script.replace(\"WITCH KING\", \"WITCH-KING\")"
   ]
  },
  {
   "cell_type": "code",
   "execution_count": 3,
   "metadata": {
    "collapsed": false
   },
   "outputs": [
    {
     "name": "stdout",
     "output_type": "stream",
     "text": [
      "43\n",
      "MADRIL\n",
      "GALADRIEL\n",
      "SMEAGOL\n",
      "KING OF THE DEAD\n",
      "ORCS\n",
      "SOLDIER\n",
      "DEAGOL\n",
      "GIMLI\n",
      "GRIMBOLD\n",
      "SOLDIER 2\n",
      "LEGOLAS\n",
      "FARAMIR\n",
      "SAM\n",
      "EOMER\n",
      "BILBO\n",
      "IORLAS\n",
      "DENETHOR\n",
      "ARWEN\n",
      "FRODO\n",
      "GUARD\n",
      "SOLDIER 1\n",
      "GOTHMOG\n",
      "LIEUTENANT\n",
      "ORC 2\n",
      "TREEBEARD\n",
      "ORC COMMANDER\n",
      "PIPPIN\n",
      "GORBAG\n",
      "ROHIRRIM\n",
      "WITCH-KING\n",
      "ROHAN SOLDIER\n",
      "GAMLING\n",
      "ELF ESCORT\n",
      "THEODEN\n",
      "EOWYN\n",
      "GATE GUARD\n",
      "RANGER\n",
      "GOLLUM\n",
      "MERRY\n",
      "GANDALF\n",
      "ARAGORN\n",
      "ELROND\n",
      "SHAGRAT\n"
     ]
    }
   ],
   "source": [
    "# Create an HTML Parser to get the characters.\n",
    "class MyHTMLCharacterParser(HTMLParser):\n",
    "    def __init__(self):\n",
    "        HTMLParser.__init__(self)\n",
    "        self.is_b = False\n",
    "        self.characters = set()\n",
    "    \n",
    "    def handle_starttag(self, tag, attrs):\n",
    "        if tag == \"b\":\n",
    "            self.is_b = True\n",
    "\n",
    "    def handle_endtag(self, tag):\n",
    "        if tag == \"b\":\n",
    "            self.is_b = False\n",
    "\n",
    "    def handle_data(self, data):\n",
    "        if self.is_b == True:\n",
    "            if data[0] == \" \" and \":\" not in data and \"(\" not in data:\n",
    "                self.characters.add(data.strip(\" ,.·;:\\\\\\\"/-)\"))\n",
    "                \n",
    "\n",
    "# Instantiate the parser and feed it the script.\n",
    "parser = MyHTMLCharacterParser()\n",
    "parser.feed(script)\n",
    "\n",
    "# Clean the character list.\n",
    "parser.characters.remove(\"A\")\n",
    "parser.characters.remove(\"CUT\")\n",
    "parser.characters.remove(\"AE\")\n",
    "parser.characters.remove(\"L\")\n",
    "parser.characters.remove(\"N\")\n",
    "parser.characters.remove(\"'\")\n",
    "parser.characters.remove(\"IG\")\n",
    "parser.characters.remove(\"CUT TO\")\n",
    "parser.characters.remove(\"FADE TO BLACK\")\n",
    "parser.characters.remove(\"THE END\")\n",
    "parser.characters.remove(\"\")\n",
    "\n",
    "for elem in list(parser.characters):\n",
    "    if \"V/0\" in elem:\n",
    "        parser.characters.remove(elem)\n",
    "\n",
    "print len(parser.characters)\n",
    "\n",
    "characters = []\n",
    "for elem in parser.characters:\n",
    "    characters.append(elem)\n",
    "    print elem"
   ]
  },
  {
   "cell_type": "code",
   "execution_count": 4,
   "metadata": {
    "collapsed": true
   },
   "outputs": [],
   "source": [
    "import networkx as nx\n",
    "import matplotlib.pyplot as plt\n",
    "\n",
    "G = nx.Graph()\n",
    "\n",
    "# Add the nodes\n",
    "for char in characters:\n",
    "    G.add_node(char)"
   ]
  },
  {
   "cell_type": "code",
   "execution_count": 5,
   "metadata": {
    "collapsed": false
   },
   "outputs": [],
   "source": [
    "# Add the edges, find the scenes using the words \"EXT.\" and \"INT.\"\n",
    "class MyHTMLSceneParser(HTMLParser):\n",
    "    def __init__(self, characters):\n",
    "        HTMLParser.__init__(self)\n",
    "        self.is_b = False\n",
    "        self.characters = characters\n",
    "        self.scenes = []\n",
    "        self.char_in_scene = set()\n",
    "    \n",
    "    def handle_starttag(self, tag, attrs):\n",
    "        #print \"Encountered a start tag:\", tag\n",
    "        if tag == \"b\":\n",
    "            self.is_b = True\n",
    "        \n",
    "    def handle_endtag(self, tag):\n",
    "        #print \"Encountered an end tag :\", tag\n",
    "        if tag == \"b\":\n",
    "            self.is_b = False\n",
    "        \n",
    "    def handle_data(self, data):\n",
    "        #print \"Encountered some data  :\", data\n",
    "        if data[:4] == \"EXT.\" or data[:4] == \"INT.\":\n",
    "            self.scenes.append(self.char_in_scene)\n",
    "            self.char_in_scene = set()\n",
    "        else:\n",
    "            if self.is_b:\n",
    "                char = data.strip(\" ,.·;:\\\\\\\"/-)\")\n",
    "                if char in self.characters:\n",
    "                    self.char_in_scene.add(char)\n",
    "                \n",
    "                \n",
    "\n",
    "# Instantiate the parser and fed it the script.\n",
    "parser = MyHTMLSceneParser(characters)\n",
    "parser.feed(script)\n",
    "# Add the last scene.\n",
    "parser.scenes.append(parser.char_in_scene)\n",
    "\n",
    "all_scenes = parser.scenes\n"
   ]
  },
  {
   "cell_type": "code",
   "execution_count": 6,
   "metadata": {
    "collapsed": false
   },
   "outputs": [],
   "source": [
    "# Add the edges to the graph.\n",
    "\n",
    "for scene in parser.scenes:\n",
    "    for i, c in enumerate(list(scene)):\n",
    "        for j in range(i+1, len(scene)):\n",
    "            if G.has_edge(c, list(scene)[j]):\n",
    "                G[c][list(scene)[j]]['weight'] = G[c][list(scene)[j]]['weight'] + 1\n",
    "            else:\n",
    "                G.add_edge(c, list(scene)[j], weight=1)\n",
    "\n"
   ]
  },
  {
   "cell_type": "code",
   "execution_count": 7,
   "metadata": {
    "collapsed": false
   },
   "outputs": [
    {
     "name": "stdout",
     "output_type": "stream",
     "text": [
      "ORCS\n",
      "GUARD\n",
      "ELF ESCORT\n"
     ]
    }
   ],
   "source": [
    "# Remove the nodes with degree 0.\n",
    "for char in characters:\n",
    "    if G.degree(char) == 0:\n",
    "        G.remove_node(char)\n",
    "        print char\n"
   ]
  },
  {
   "cell_type": "code",
   "execution_count": 8,
   "metadata": {
    "collapsed": false
   },
   "outputs": [
    {
     "data": {
      "text/plain": [
       "[('GANDALF', 0.08938728122441608),\n",
       " ('PIPPIN', 0.07299706063732403),\n",
       " ('THEODEN', 0.06436694958276629),\n",
       " ('FRODO', 0.057627052983407694),\n",
       " ('SAM', 0.05442678981274595),\n",
       " ('ARAGORN', 0.053588076862994355),\n",
       " ('MERRY', 0.049913034808897874),\n",
       " ('GIMLI', 0.04665746599568066),\n",
       " ('EOWYN', 0.04398983986203521),\n",
       " ('GOLLUM', 0.03530083263275775)]"
      ]
     },
     "execution_count": 8,
     "metadata": {},
     "output_type": "execute_result"
    }
   ],
   "source": [
    "x = nx.algorithms.pagerank(G)\n",
    "\n",
    "import operator\n",
    "sorted_x = sorted(x.items(), key=operator.itemgetter(1))\n",
    "sorted_x.reverse()\n",
    "sorted_x[:10]"
   ]
  },
  {
   "cell_type": "code",
   "execution_count": 9,
   "metadata": {
    "collapsed": false
   },
   "outputs": [
    {
     "data": {
      "text/plain": [
       "[('GANDALF', 3),\n",
       " ('SOLDIER', 3),\n",
       " ('MERRY', 3),\n",
       " ('GATE GUARD', 3),\n",
       " ('PIPPIN', 3),\n",
       " ('TREEBEARD', 3),\n",
       " ('DENETHOR', 3),\n",
       " ('IORLAS', 3),\n",
       " ('SOLDIER 1', 3),\n",
       " ('SOLDIER 2', 3),\n",
       " ('ARAGORN', 2),\n",
       " ('EOWYN', 2),\n",
       " ('THEODEN', 2),\n",
       " ('GAMLING', 2),\n",
       " ('ROHAN SOLDIER', 2),\n",
       " ('WITCH-KING', 2),\n",
       " ('ROHIRRIM', 2),\n",
       " ('LEGOLAS', 2),\n",
       " ('EOMER', 2),\n",
       " ('GRIMBOLD', 2),\n",
       " ('GIMLI', 2),\n",
       " ('KING OF THE DEAD', 2),\n",
       " ('SHAGRAT', 1),\n",
       " ('ELROND', 1),\n",
       " ('DEAGOL', 1),\n",
       " ('GOLLUM', 1),\n",
       " ('GORBAG', 1),\n",
       " ('ORC 2', 1),\n",
       " ('ARWEN', 1),\n",
       " ('BILBO', 1),\n",
       " ('FRODO', 1),\n",
       " ('SAM', 1),\n",
       " ('SMEAGOL', 1),\n",
       " ('GALADRIEL', 1),\n",
       " ('LIEUTENANT', 0),\n",
       " ('ORC COMMANDER', 0),\n",
       " ('GOTHMOG', 0),\n",
       " ('FARAMIR', 0),\n",
       " ('RANGER', 0),\n",
       " ('MADRIL', 0)]"
      ]
     },
     "execution_count": 9,
     "metadata": {},
     "output_type": "execute_result"
    }
   ],
   "source": [
    "import community\n",
    "\n",
    "com = community.best_partition(G)\n",
    "\n",
    "sorted_x = sorted(com.items(), key=operator.itemgetter(1))\n",
    "sorted_x.reverse()\n",
    "sorted_x"
   ]
  },
  {
   "cell_type": "code",
   "execution_count": 10,
   "metadata": {
    "collapsed": false
   },
   "outputs": [
    {
     "data": {
      "text/plain": [
       "[('GANDALF', 0.5128205128205128),\n",
       " ('THEODEN', 0.3846153846153846),\n",
       " ('GIMLI', 0.3076923076923077),\n",
       " ('PIPPIN', 0.28205128205128205),\n",
       " ('MERRY', 0.28205128205128205),\n",
       " ('ARAGORN', 0.2564102564102564),\n",
       " ('EOWYN', 0.2564102564102564),\n",
       " ('GOTHMOG', 0.2564102564102564),\n",
       " ('SAM', 0.2564102564102564),\n",
       " ('ELROND', 0.20512820512820512)]"
      ]
     },
     "execution_count": 10,
     "metadata": {},
     "output_type": "execute_result"
    }
   ],
   "source": [
    "x = nx.algorithms.degree_centrality(G)\n",
    "\n",
    "sorted_x = sorted(x.items(), key=operator.itemgetter(1))\n",
    "sorted_x.reverse()\n",
    "sorted_x[:10]"
   ]
  },
  {
   "cell_type": "code",
   "execution_count": 11,
   "metadata": {
    "collapsed": false
   },
   "outputs": [
    {
     "data": {
      "text/plain": [
       "[('GANDALF', 0.48792172739541173),\n",
       " ('THEODEN', 0.2018443544759334),\n",
       " ('SAM', 0.18421052631578946),\n",
       " ('ELROND', 0.09761583445793973),\n",
       " ('GOTHMOG', 0.09561403508771926),\n",
       " ('FARAMIR', 0.09412955465587046),\n",
       " ('FRODO', 0.0883940620782726),\n",
       " ('IORLAS', 0.05128205128205128),\n",
       " ('SMEAGOL', 0.05128205128205128),\n",
       " ('GIMLI', 0.04871794871794871)]"
      ]
     },
     "execution_count": 11,
     "metadata": {},
     "output_type": "execute_result"
    }
   ],
   "source": [
    "x = nx.algorithms.betweenness_centrality(G)\n",
    "\n",
    "sorted_x = sorted(x.items(), key=operator.itemgetter(1))\n",
    "sorted_x.reverse()\n",
    "sorted_x[:10]"
   ]
  },
  {
   "cell_type": "code",
   "execution_count": 17,
   "metadata": {
    "collapsed": true
   },
   "outputs": [],
   "source": [
    "# Save the network.\n",
    "nx.write_gexf(G, \"LOTR1.gexf\")"
   ]
  },
  {
   "cell_type": "code",
   "execution_count": 12,
   "metadata": {
    "collapsed": false
   },
   "outputs": [
    {
     "name": "stdout",
     "output_type": "stream",
     "text": [
      "('GANDALF', 67)\n",
      "('SAM', 63)\n",
      "('FRODO', 51)\n",
      "('PIPPIN', 44)\n",
      "('GOLLUM', 36)\n",
      "('ARAGORN', 35)\n",
      "('THEODEN', 28)\n",
      "('DENETHOR', 22)\n",
      "('EOWYN', 20)\n",
      "('MERRY', 20)\n"
     ]
    }
   ],
   "source": [
    "import collections\n",
    "    \n",
    "# create a subclass and override the handler methods\n",
    "class MyHTMLSceneParser(HTMLParser):\n",
    "    def __init__(self, characters):\n",
    "        HTMLParser.__init__(self)\n",
    "        self.is_b = False\n",
    "        self.characters = characters\n",
    "        self.lines = []\n",
    "    \n",
    "    def handle_starttag(self, tag, attrs):\n",
    "        if tag == \"b\":\n",
    "            self.is_b = True\n",
    "        \n",
    "    def handle_endtag(self, tag):\n",
    "        if tag == \"b\":\n",
    "            self.is_b = False\n",
    "        \n",
    "    def handle_data(self, data):\n",
    "        if self.is_b:\n",
    "            char = data.strip(\" ,.·;:\\\\\\\"/-)\")\n",
    "            if char in self.characters:\n",
    "                self.lines.append(char)\n",
    "\n",
    "                \n",
    "\n",
    "# Instantiate the parser and feed it the script.\n",
    "parser = MyHTMLSceneParser(characters)\n",
    "parser.feed(script)\n",
    "\n",
    "counter = collections.Counter(parser.lines)\n",
    "for elem in counter.most_common(10):\n",
    "    print elem\n",
    "\n"
   ]
  },
  {
   "cell_type": "code",
   "execution_count": 13,
   "metadata": {
    "collapsed": false
   },
   "outputs": [
    {
     "data": {
      "text/html": [
       "\n",
       "           <script>\n",
       "               \n",
       "                function vct_load_lib(url, callback){\n",
       "                      if(typeof d3 !== 'undefined' &&\n",
       "                         url === 'http://d3js.org/d3.v3.min.js'){\n",
       "                        callback()\n",
       "                      }\n",
       "                      var s = document.createElement('script');\n",
       "                      s.src = url;\n",
       "                      s.async = true;\n",
       "                      s.onreadystatechange = s.onload = callback;\n",
       "                      s.onerror = function(){\n",
       "                        console.warn(\"failed to load library \" + url);\n",
       "                        };\n",
       "                      document.getElementsByTagName(\"head\")[0].appendChild(s);\n",
       "                };\n",
       "                var vincent_event = new CustomEvent(\n",
       "                  \"vincent_libs_loaded\",\n",
       "                  {bubbles: true, cancelable: true}\n",
       "                );\n",
       "                \n",
       "               function load_all_libs(){\n",
       "                  console.log('Loading Vincent libs...')\n",
       "                  vct_load_lib('http://d3js.org/d3.v3.min.js', function(){\n",
       "                  vct_load_lib('http://d3js.org/d3.geo.projection.v0.min.js', function(){\n",
       "                  vct_load_lib('http://wrobstory.github.io/d3-cloud/d3.layout.cloud.js', function(){\n",
       "                  vct_load_lib('http://wrobstory.github.io/vega/vega.v1.3.3.js', function(){\n",
       "                  window.dispatchEvent(vincent_event);\n",
       "                  });\n",
       "                  });\n",
       "                  });\n",
       "                  });\n",
       "               };\n",
       "               if(typeof define === \"function\" && define.amd){\n",
       "                    if (window['d3'] === undefined ||\n",
       "                        window['topojson'] === undefined){\n",
       "                        require.config(\n",
       "                            {paths: {\n",
       "                              d3: 'http://d3js.org/d3.v3.min',\n",
       "                              topojson: 'http://d3js.org/topojson.v1.min'\n",
       "                              }\n",
       "                            }\n",
       "                          );\n",
       "                        require([\"d3\"], function(d3){\n",
       "                            console.log('Loading Vincent from require.js...')\n",
       "                            window.d3 = d3;\n",
       "                            require([\"topojson\"], function(topojson){\n",
       "                                window.topojson = topojson;\n",
       "                                load_all_libs();\n",
       "                            });\n",
       "                        });\n",
       "                    } else {\n",
       "                        load_all_libs();\n",
       "                    };\n",
       "               }else{\n",
       "                    console.log('Require.js not found, loading manually...')\n",
       "                    load_all_libs();\n",
       "               };\n",
       "\n",
       "           </script>"
      ],
      "text/plain": [
       "<IPython.core.display.HTML object>"
      ]
     },
     "metadata": {},
     "output_type": "display_data"
    },
    {
     "data": {
      "text/html": [
       "<div id=\"visd47ebbb71d3f4b96b4942dfb665697ea\"></div>\n",
       "<script>\n",
       "   ( function() {\n",
       "     var _do_plot = function() {\n",
       "       if (typeof vg === 'undefined') {\n",
       "         window.addEventListener('vincent_libs_loaded', _do_plot)\n",
       "         return;\n",
       "       }\n",
       "       vg.parse.spec({\"axes\": [{\"scale\": \"x\", \"title\": \"Character\", \"type\": \"x\"}, {\"scale\": \"y\", \"title\": \"# lines\", \"type\": \"y\"}], \"data\": [{\"name\": \"table\", \"values\": [{\"col\": \"data\", \"idx\": \"GANDALF\", \"val\": 67}, {\"col\": \"data\", \"idx\": \"SAM\", \"val\": 63}, {\"col\": \"data\", \"idx\": \"FRODO\", \"val\": 51}, {\"col\": \"data\", \"idx\": \"PIPPIN\", \"val\": 44}, {\"col\": \"data\", \"idx\": \"GOLLUM\", \"val\": 36}, {\"col\": \"data\", \"idx\": \"ARAGORN\", \"val\": 35}, {\"col\": \"data\", \"idx\": \"THEODEN\", \"val\": 28}, {\"col\": \"data\", \"idx\": \"DENETHOR\", \"val\": 22}, {\"col\": \"data\", \"idx\": \"EOWYN\", \"val\": 20}, {\"col\": \"data\", \"idx\": \"MERRY\", \"val\": 20}]}, {\"name\": \"stats\", \"source\": \"table\", \"transform\": [{\"keys\": [\"data.idx\"], \"type\": \"facet\"}, {\"type\": \"stats\", \"value\": \"data.val\"}]}], \"height\": 500, \"legends\": [], \"marks\": [{\"from\": {\"data\": \"table\", \"transform\": [{\"keys\": [\"data.col\"], \"type\": \"facet\"}, {\"height\": \"data.val\", \"point\": \"data.idx\", \"type\": \"stack\"}]}, \"marks\": [{\"properties\": {\"enter\": {\"fill\": {\"field\": \"data.col\", \"scale\": \"color\"}, \"width\": {\"band\": true, \"offset\": -1, \"scale\": \"x\"}, \"x\": {\"field\": \"data.idx\", \"scale\": \"x\"}, \"y\": {\"field\": \"y\", \"scale\": \"y\"}, \"y2\": {\"field\": \"y2\", \"scale\": \"y\"}}}, \"type\": \"rect\"}], \"type\": \"group\"}], \"padding\": \"auto\", \"scales\": [{\"domain\": {\"data\": \"table\", \"field\": \"data.idx\"}, \"name\": \"x\", \"padding\": 0.1, \"range\": \"width\", \"type\": \"ordinal\", \"zero\": false}, {\"domain\": {\"data\": \"stats\", \"field\": \"sum\"}, \"name\": \"y\", \"nice\": true, \"range\": \"height\"}, {\"domain\": {\"data\": \"table\", \"field\": \"data.col\"}, \"name\": \"color\", \"range\": [\"#b3e2cd\", \"#fdcdac\", \"#cbd5e8\", \"#f4cae4\", \"#e6f5c9\", \"#fff2ae\", \"#f1e2cc\", \"#cccccc\"], \"type\": \"ordinal\"}], \"width\": 960}, function(chart) {\n",
       "         chart({el: \"#visd47ebbb71d3f4b96b4942dfb665697ea\"}).update();\n",
       "       });\n",
       "     };\n",
       "     _do_plot();\n",
       "   })();\n",
       "</script>\n",
       "<style>.vega canvas {width: 100%;}</style>\n",
       "        "
      ],
      "text/plain": [
       "<IPython.core.display.HTML object>"
      ]
     },
     "metadata": {},
     "output_type": "display_data"
    }
   ],
   "source": [
    "import vincent\n",
    "pre_data = counter.most_common(10)\n",
    "\n",
    "vincent.core.initialize_notebook()\n",
    "data = [x[1] for x in pre_data]\n",
    "index = [x[0] for x in pre_data]\n",
    "s = pd.Series(data=data, index=index)\n",
    "\n",
    "bars = vincent.Bar(s)\n",
    "bars.colors(brew='Pastel2')\n",
    "bars.axis_titles(x='Character', y='# lines')\n",
    "bars.scales['x'].padding = 0.1\n",
    "bars.display()"
   ]
  },
  {
   "cell_type": "code",
   "execution_count": 14,
   "metadata": {
    "collapsed": false
   },
   "outputs": [
    {
     "name": "stdout",
     "output_type": "stream",
     "text": [
      "('GANDALF', 33)\n",
      "('SAM', 23)\n",
      "('PIPPIN', 23)\n",
      "('FRODO', 21)\n",
      "('ARAGORN', 17)\n",
      "('GOLLUM', 16)\n",
      "('THEODEN', 14)\n",
      "('GIMLI', 11)\n",
      "('EOWYN', 10)\n",
      "('MERRY', 10)\n"
     ]
    }
   ],
   "source": [
    "# Character vs Number of scenes\n",
    "all_scenes2 = []\n",
    "for scene in all_scenes:\n",
    "    ls = list(scene)\n",
    "    all_scenes2.extend(ls)\n",
    "    \n",
    "counter = collections.Counter(all_scenes2)\n",
    "for elem in counter.most_common(10):\n",
    "    print elem\n"
   ]
  },
  {
   "cell_type": "code",
   "execution_count": 15,
   "metadata": {
    "collapsed": false
   },
   "outputs": [
    {
     "data": {
      "text/html": [
       "\n",
       "           <script>\n",
       "               \n",
       "                function vct_load_lib(url, callback){\n",
       "                      if(typeof d3 !== 'undefined' &&\n",
       "                         url === 'http://d3js.org/d3.v3.min.js'){\n",
       "                        callback()\n",
       "                      }\n",
       "                      var s = document.createElement('script');\n",
       "                      s.src = url;\n",
       "                      s.async = true;\n",
       "                      s.onreadystatechange = s.onload = callback;\n",
       "                      s.onerror = function(){\n",
       "                        console.warn(\"failed to load library \" + url);\n",
       "                        };\n",
       "                      document.getElementsByTagName(\"head\")[0].appendChild(s);\n",
       "                };\n",
       "                var vincent_event = new CustomEvent(\n",
       "                  \"vincent_libs_loaded\",\n",
       "                  {bubbles: true, cancelable: true}\n",
       "                );\n",
       "                \n",
       "               function load_all_libs(){\n",
       "                  console.log('Loading Vincent libs...')\n",
       "                  vct_load_lib('http://d3js.org/d3.v3.min.js', function(){\n",
       "                  vct_load_lib('http://d3js.org/d3.geo.projection.v0.min.js', function(){\n",
       "                  vct_load_lib('http://wrobstory.github.io/d3-cloud/d3.layout.cloud.js', function(){\n",
       "                  vct_load_lib('http://wrobstory.github.io/vega/vega.v1.3.3.js', function(){\n",
       "                  window.dispatchEvent(vincent_event);\n",
       "                  });\n",
       "                  });\n",
       "                  });\n",
       "                  });\n",
       "               };\n",
       "               if(typeof define === \"function\" && define.amd){\n",
       "                    if (window['d3'] === undefined ||\n",
       "                        window['topojson'] === undefined){\n",
       "                        require.config(\n",
       "                            {paths: {\n",
       "                              d3: 'http://d3js.org/d3.v3.min',\n",
       "                              topojson: 'http://d3js.org/topojson.v1.min'\n",
       "                              }\n",
       "                            }\n",
       "                          );\n",
       "                        require([\"d3\"], function(d3){\n",
       "                            console.log('Loading Vincent from require.js...')\n",
       "                            window.d3 = d3;\n",
       "                            require([\"topojson\"], function(topojson){\n",
       "                                window.topojson = topojson;\n",
       "                                load_all_libs();\n",
       "                            });\n",
       "                        });\n",
       "                    } else {\n",
       "                        load_all_libs();\n",
       "                    };\n",
       "               }else{\n",
       "                    console.log('Require.js not found, loading manually...')\n",
       "                    load_all_libs();\n",
       "               };\n",
       "\n",
       "           </script>"
      ],
      "text/plain": [
       "<IPython.core.display.HTML object>"
      ]
     },
     "metadata": {},
     "output_type": "display_data"
    },
    {
     "data": {
      "text/html": [
       "<div id=\"visfba3e71653014789a978370e9b7bbbc5\"></div>\n",
       "<script>\n",
       "   ( function() {\n",
       "     var _do_plot = function() {\n",
       "       if (typeof vg === 'undefined') {\n",
       "         window.addEventListener('vincent_libs_loaded', _do_plot)\n",
       "         return;\n",
       "       }\n",
       "       vg.parse.spec({\"axes\": [{\"scale\": \"x\", \"title\": \"Character\", \"type\": \"x\"}, {\"scale\": \"y\", \"title\": \"# scenes\", \"type\": \"y\"}], \"data\": [{\"name\": \"table\", \"values\": [{\"col\": \"data\", \"idx\": \"GANDALF\", \"val\": 33}, {\"col\": \"data\", \"idx\": \"SAM\", \"val\": 23}, {\"col\": \"data\", \"idx\": \"PIPPIN\", \"val\": 23}, {\"col\": \"data\", \"idx\": \"FRODO\", \"val\": 21}, {\"col\": \"data\", \"idx\": \"ARAGORN\", \"val\": 17}, {\"col\": \"data\", \"idx\": \"GOLLUM\", \"val\": 16}, {\"col\": \"data\", \"idx\": \"THEODEN\", \"val\": 14}, {\"col\": \"data\", \"idx\": \"GIMLI\", \"val\": 11}, {\"col\": \"data\", \"idx\": \"EOWYN\", \"val\": 10}, {\"col\": \"data\", \"idx\": \"MERRY\", \"val\": 10}]}, {\"name\": \"stats\", \"source\": \"table\", \"transform\": [{\"keys\": [\"data.idx\"], \"type\": \"facet\"}, {\"type\": \"stats\", \"value\": \"data.val\"}]}], \"height\": 500, \"legends\": [], \"marks\": [{\"from\": {\"data\": \"table\", \"transform\": [{\"keys\": [\"data.col\"], \"type\": \"facet\"}, {\"height\": \"data.val\", \"point\": \"data.idx\", \"type\": \"stack\"}]}, \"marks\": [{\"properties\": {\"enter\": {\"fill\": {\"field\": \"data.col\", \"scale\": \"color\"}, \"width\": {\"band\": true, \"offset\": -1, \"scale\": \"x\"}, \"x\": {\"field\": \"data.idx\", \"scale\": \"x\"}, \"y\": {\"field\": \"y\", \"scale\": \"y\"}, \"y2\": {\"field\": \"y2\", \"scale\": \"y\"}}}, \"type\": \"rect\"}], \"type\": \"group\"}], \"padding\": \"auto\", \"scales\": [{\"domain\": {\"data\": \"table\", \"field\": \"data.idx\"}, \"name\": \"x\", \"padding\": 0.1, \"range\": \"width\", \"type\": \"ordinal\", \"zero\": false}, {\"domain\": {\"data\": \"stats\", \"field\": \"sum\"}, \"name\": \"y\", \"nice\": true, \"range\": \"height\"}, {\"domain\": {\"data\": \"table\", \"field\": \"data.col\"}, \"name\": \"color\", \"range\": [\"#b3e2cd\", \"#fdcdac\", \"#cbd5e8\", \"#f4cae4\", \"#e6f5c9\", \"#fff2ae\", \"#f1e2cc\", \"#cccccc\"], \"type\": \"ordinal\"}], \"width\": 960}, function(chart) {\n",
       "         chart({el: \"#visfba3e71653014789a978370e9b7bbbc5\"}).update();\n",
       "       });\n",
       "     };\n",
       "     _do_plot();\n",
       "   })();\n",
       "</script>\n",
       "<style>.vega canvas {width: 100%;}</style>\n",
       "        "
      ],
      "text/plain": [
       "<IPython.core.display.HTML object>"
      ]
     },
     "metadata": {},
     "output_type": "display_data"
    }
   ],
   "source": [
    "import vincent\n",
    "pre_data = counter.most_common(10)\n",
    "\n",
    "vincent.core.initialize_notebook()\n",
    "data = [x[1] for x in pre_data]\n",
    "index = [x[0] for x in pre_data]\n",
    "s = pd.Series(data=data, index=index)\n",
    "\n",
    "bars = vincent.Bar(s)\n",
    "bars.colors(brew='Pastel2')\n",
    "bars.axis_titles(x='Character', y='# scenes')\n",
    "bars.scales['x'].padding = 0.1\n",
    "bars.display()"
   ]
  },
  {
   "cell_type": "code",
   "execution_count": null,
   "metadata": {
    "collapsed": true
   },
   "outputs": [],
   "source": []
  }
 ],
 "metadata": {
  "kernelspec": {
   "display_name": "Python 2",
   "language": "python",
   "name": "python2"
  },
  "language_info": {
   "codemirror_mode": {
    "name": "ipython",
    "version": 2
   },
   "file_extension": ".py",
   "mimetype": "text/x-python",
   "name": "python",
   "nbconvert_exporter": "python",
   "pygments_lexer": "ipython2",
   "version": "2.7.9"
  }
 },
 "nbformat": 4,
 "nbformat_minor": 0
}
