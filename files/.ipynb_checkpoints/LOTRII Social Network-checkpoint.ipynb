{
 "cells": [
  {
   "cell_type": "code",
   "execution_count": 1,
   "metadata": {
    "collapsed": true
   },
   "outputs": [],
   "source": [
    "from HTMLParser import HTMLParser\n",
    "import numpy as np\n",
    "from __future__ import division\n",
    "import vincent\n",
    "import nltk\n",
    "from nltk.corpus import stopwords\n",
    "from nltk import FreqDist\n",
    "import pandas as pd"
   ]
  },
  {
   "cell_type": "code",
   "execution_count": 2,
   "metadata": {
    "collapsed": false
   },
   "outputs": [],
   "source": [
    "# Load the script\n",
    "with open('script_LOTRII.html', 'r') as myfile:\n",
    "    script=myfile.read().replace('\\n', '')\n",
    "\n",
    "# Modify the script to fix some issues.\n",
    "script = script.replace(\"[Camera pans over the Misty Mountains \", \"<i>SCENE</i>\")\n",
    "script = script.replace(\"as if from a nightmare.]\", \"<i>SCENE</i>\")\n",
    "script = script.replace(\"way down to the hobbits.]\", \"<i>SCENE</i>\")\n",
    "script = script.replace(\"with a gash on his right brow.]\", \"<i>SCENE</i>\")\n",
    "script = script.replace(\"for the sound of footsteps.]\", \"<i>SCENE</i>\")\n",
    "script = script.replace(\"with the Dark Lord through the Palantír.]\", \"<i>SCENE</i>\")\n",
    "script = script.replace(\"the on-coming pillage.]\", \"<i>SCENE</i>\")\n",
    "script = script.replace(\"back from a distance.]\", \"<i>SCENE</i>\")\n",
    "script = script.replace(\"Gimli hot on their pursuits.]\", \"<i>SCENE</i>\")\n",
    "script = script.replace(\"many panting with exertion.]\", \"<i>SCENE</i>\")\n",
    "script = script.replace(\"rest, Pippin crawls over towards Merry.]\", \"<i>SCENE</i>\")\n",
    "script = script.replace(\"after the Uruk-hai. It is dawn.]\", \"<i>SCENE</i>\")\n",
    "script = script.replace(\"and Gimli.]\", \"<i>SCENE</i>\")\n",
    "script = script.replace(\"by his belt and clings on.]\", \"<i>SCENE</i>\")\n",
    "script = script.replace(\"is left holding it.]\", \"<i>SCENE</i>\")\n",
    "script = script.replace(\"Run!\", \"<i>SCENE</i>\")\n",
    "script = script.replace(\"onto the ground, out of breath.]\", \"<i>SCENE</i>\")\n",
    "script = script.replace(\"Wizard.]\", \"<i>SCENE</i>\")\n",
    "script = script.replace(\"[Frodo lies panting, staring after Gollum]\", \"<i>SCENE</i>\")\n",
    "script = script.replace(\"it to his mouth.]\", \"<i>SCENE</i>\")\n",
    "script = script.replace(\"across the plains to Edoras.]\", \"<i>SCENE</i>\")\n",
    "script = script.replace(\"overlooking Morannon.]\", \"<i>SCENE</i>\")\n",
    "script = script.replace(\"after him in disbelief.]\", \"<i>SCENE</i>\")\n",
    "script = script.replace(\"Théoden, holding his hand in hers.]\", \"<i>SCENE</i>\")\n",
    "script = script.replace(\"[Scene returns to Gandalf and company.]\", \"<i>SCENE</i>\")\n",
    "script = script.replace(\"[They ride on towards Edoras.]\", \"<i>SCENE</i>\")\n",
    "script = script.replace(\"people.]\", \"<i>SCENE</i>\")\n",
    "script = script.replace(\"and Éowyn is with them.]\", \"<i>SCENE</i>\")\n",
    "script = script.replace(\"Ride out and meet him head on. Draw \", \"<i>SCENE</i>\")\n",
    "script = script.replace(\"[Leans forward and puts a hand on Théoden’s \", \"<b>GANDALF</b>\")\n",
    "script = script.replace(\"[Scene shifts to outside Meduseld]\", \"<i>SCENE</i>\")\n",
    "script = script.replace(\"met by Aragorn, who blocks her parry.]\", \"<i>SCENE</i>\")\n",
    "script = script.replace(\"he walks away.]\", \"<i>SCENE</i>\")\n",
    "script = script.replace(\"and Sam follow behind.]\", \"<i>SCENE</i>\")\n",
    "script = script.replace(\"Gollum is crouching in a corner by himself.]\", \"<i>SCENE</i>\")\n",
    "script = script.replace(\"dead.]\", \"<i>SCENE</i>\")\n",
    "script = script.replace(\"is leading it by the reins.]\", \"<i>SCENE</i>\")\n",
    "script = script.replace(\"as he thinks of Arwen.]\", \"<i>SCENE</i>\")\n",
    "script = script.replace(\"Deep. Éowyn is walking alongside Aragorn.]\", \"<i>SCENE</i>\")\n",
    "script = script.replace(\"[ARAGORN SMILES AND SAYS NOTHING. FLASHBACK\", \"<b>ARAGORN</b>\")\n",
    "script = script.replace(\"before he sets out with the Fellowship.]\", \"<i>SCENE</i>\")\n",
    "script = script.replace(\"[Scene shifts back to Aragorn and Éowyn]\", \"<i>SCENE</i>\")\n",
    "script = script.replace(\"Legolas watches them as they pass.]\", \"<i>SCENE</i>\")\n",
    "script = script.replace(\"heard as the refuge is within sight.]\", \"<i>SCENE</i>\")\n",
    "script = script.replace(\"with warg riders]\", \"<i>SCENE</i>\")\n",
    "script = script.replace(\"[At the battlements]\", \"<i>SCENE</i>\")\n",
    "script = script.replace(\"[Camera zooms in on the gate]\", \"<i>SCENE</i>\")\n",
    "script = script.replace(\"the forest, carried by Treebeard.]\", \"<i>SCENE</i>\")\n",
    "script = script.replace(\"He is washed ashore and dreams of Arwen.]\", \"<i>SCENE</i>\")\n",
    "script = script.replace(\"thought.]\", \"<i>SCENE</i>\")\n",
    "script = script.replace(\"hears Galadriel speaking.]\", \"<i>SCENE</i>\")\n",
    "script = script.replace(\"a map.]\", \"<i>SCENE</i>\")\n",
    "script = script.replace(\"Suddenly someone comes up to him.]\", \"<i>SCENE</i>\")\n",
    "script = script.replace(\"Frodo are alone.]\", \"<i>SCENE</i>\")\n",
    "script = script.replace(\"[They both stand as Faramir enters.]\", \"<i>SCENE</i>\")\n",
    "script = script.replace(\"soon sees the refuge.]\", \"<i>SCENE</i>\")\n",
    "script = script.replace(\"of carrion crows circle overhead.]\", \"<i>SCENE</i>\")\n",
    "script = script.replace(\"children are being led into the caves.]\", \"<i>SCENE</i>\")\n",
    "script = script.replace(\"it and tosses it back.]\", \"<i>SCENE</i>\")\n",
    "script = script.replace(\"[In the hall]\", \"<i>SCENE</i>\")\n",
    "script = script.replace(\"nervously.]\", \"<i>SCENE</i>\")\n",
    "script = script.replace(\"accepts the sword from Legolas.]\", \"<i>SCENE</i>\")\n",
    "script = script.replace(\"[The guards look down in wonderment.]\", \"<i>SCENE</i>\")\n",
    "script = script.replace(\"look upon them in wonderment and delight\", \"<i>SCENE</i>\")\n",
    "script = script.replace(\"wall, only the top of his helmet visible.]\", \"<i>SCENE</i>\")\n",
    "script = script.replace(\"charging.]\", \"<i>SCENE</i>\")\n",
    "script = script.replace(\"nods and turns to the hobbits.]\", \"<i>SCENE</i>\")\n",
    "script = script.replace(\"as they come up]\", \"<i>SCENE</i>\")\n",
    "script = script.replace(\"[At the Ent Moot]\", \"<i>SCENE</i>\")\n",
    "script = script.replace(\"[Pippin looks after Merry as he walks \", \"<i>SCENE</i>\")\n",
    "script = script.replace(\"swings down to the ground, killing as \", \"<i>SCENE</i>\")\n",
    "script = script.replace(\"the gate.]\", \"<i>SCENE</i>\")\n",
    "script = script.replace(\"[On the other side of the gate]\", \"<i>SCENE</i>\")\n",
    "script = script.replace(\"of the battlements]\", \"<i>SCENE</i>\")\n",
    "script = script.replace(\"army as he goes.]\", \"<i>SCENE</i>\")\n",
    "script = script.replace(\"[Faramir and company draws close to \", \"<i>SCENE</i>\")\n",
    "script = script.replace(\"the southern edge of the forest.]\", \"<i>SCENE</i>\")\n",
    "script = script.replace(\"and falling rocks.]\", \"<i>SCENE</i>\")\n",
    "script = script.replace(\"of the keep.]\", \"<i>SCENE</i>\")\n",
    "script = script.replace(\"the battering ram banging on the door.]\", \"<i>SCENE</i>\")\n",
    "script = script.replace(\"a white rider against the rising sun]\", \"<i>SCENE</i>\")\n",
    "script = script.replace(\"in battle.]\", \"<i>SCENE</i>\")\n",
    "script = script.replace(\"mechanisms and structures within.]\", \"<i>SCENE</i>\")\n",
    "script = script.replace(\"towards the Mountain of Fire in the \", \"<i>SCENE</i>\")\n",
    "script = script.replace(\"woods, away from Osgiliath.]\", \"<i>SCENE</i>\")\n",
    "script = script.replace(\"[Gollum is crouching a short distance \", \"<i>SCENE</i>\")\n",
    "script = script.replace(\"We’re not gonna wait for you. Come on!\", \"<i>SCENE</i>\")\n",
    "script = script.replace(\"[He looks in the direction of the hobbits]\", \"<i>SCENE</i>\")\n",
    "script = script.replace(\"circle the dark skies. Lightning flashes\", \"<i>SCENE</i>\")\n",
    "\n",
    "script = script.replace(\"THEODEN\", \"THÉODEN\")\n",
    "script = script.replace(\"WHITE WIZARD\", \"GANDALF\")\n",
    "\n",
    "\n",
    "script2 = list(script)\n",
    "\n",
    "script2[92841:92844] = \"---\"\n",
    "script2[92888:92892] = \"----\"\n",
    "\n",
    "script2[225128] = \"X\"\n",
    "\n",
    "script = \"\".join(script2)\n",
    "\n",
    "# Replace utf-8 characters.\n",
    "script = script.replace(\"UGLÚK\", \"UGLUK\")\n",
    "script = script.replace(\"ÉOTHAIN\", \"EOTHAIN\")\n",
    "script = script.replace(\"ÉOWYN\", \"EOWYN\")\n",
    "script = script.replace(\"THÉODEN\", \"THEODEN\")\n",
    "script = script.replace(\"ÉOMER\", \"EOMER\")\n",
    "script = script.replace(\"GRISHNÁKH\", \"GRISHNAKH\")\n",
    "script = script.replace(\"MAÚHUR\", \"MAUHUR\")\n",
    "script = script.replace(\"SMÉAGOL\", \"SMEAGOL\")\n",
    "script = script.replace(\"GRÍMA\", \"GRIMA\")\n",
    "script = script.replace(\"HÁMA\", \"HAMA\")"
   ]
  },
  {
   "cell_type": "code",
   "execution_count": 3,
   "metadata": {
    "collapsed": false
   },
   "outputs": [
    {
     "name": "stdout",
     "output_type": "stream",
     "text": [
      "56\n",
      "FRODO\n",
      "RANGER 1\n",
      "GALADRIEL\n",
      "SMEAGOL\n",
      "WARG-RIDERS\n",
      "MADRIL\n",
      "GRIMA\n",
      "SOLDIER\n",
      "BEREG\n",
      "RANGER 2\n",
      "SARUMAN\n",
      "HAMA\n",
      "GIMLI\n",
      "SOLDIER 4\n",
      "SOLDIER 3\n",
      "SOLDIER 2\n",
      "LEGOLAS\n",
      "SNAGA\n",
      "HALETH\n",
      "WOMAN\n",
      "MAN-FLESH URUK\n",
      "UGLUK\n",
      "SAM\n",
      "GONDORIAN RANGER\n",
      "OLD WOMAN\n",
      "SOLDIER 1\n",
      "ARWEN\n",
      "EOMER\n",
      "MAUHUR\n",
      "THEODEN\n",
      "HALDIR\n",
      "TREEBEARD\n",
      "GRISHNAKH\n",
      "MERRY\n",
      "FARAMIR\n",
      "EOTHAIN\n",
      "GAMLING\n",
      "ROHAN CAPTAIN\n",
      "BOROMIR\n",
      "EOWYN\n",
      "MAN-WITH-MISSING-EYE\n",
      "FREDA\n",
      "CROWD\n",
      "SHARKU\n",
      "RANGER\n",
      "GOLLUM\n",
      "DAMROD\n",
      "MORWEN\n",
      "DUNLAND MAN\n",
      "PIPPIN\n",
      "SOLDIERS\n",
      "MORDOR ORC\n",
      "GANDALF\n",
      "ARAGORN\n",
      "REFUGEES\n",
      "ELROND\n"
     ]
    }
   ],
   "source": [
    "# create an HTML Parser to get the characters.\n",
    "class MyHTMLCharacterParser(HTMLParser):\n",
    "    def __init__(self):\n",
    "        HTMLParser.__init__(self)\n",
    "        self.is_b = False\n",
    "        self.characters = set()\n",
    "    \n",
    "    def handle_starttag(self, tag, attrs):\n",
    "        if tag == \"b\":\n",
    "            self.is_b = True\n",
    "\n",
    "    def handle_endtag(self, tag):\n",
    "        if tag == \"b\":\n",
    "            self.is_b = False\n",
    "\n",
    "    def handle_data(self, data):\n",
    "        if self.is_b == True:\n",
    "            if data[0] == \" \" and \":\" not in data and \"(\" not in data:\n",
    "                self.characters.add(data.strip(\" ,.·;:\\\\\\\"/-)\"))\n",
    "                \n",
    "\n",
    "# Instantiate the parser and feed it the script.\n",
    "parser = MyHTMLCharacterParser()\n",
    "parser.feed(script)\n",
    "\n",
    "# Clean the character list.\n",
    "parser.characters.remove(\"LEAVE. NOW. AND. NEVER. COME. BACK!\")\n",
    "parser.characters.remove(\"THÉODEX\")\n",
    "parser.characters.remove(\"CHARGE!!\")\n",
    "parser.characters.remove(\"YOU… SHALL NOT... PASS!!!\")\n",
    "parser.characters.remove(\"THE GATE. SUDDENLY, HE IS STABBED IN HIS ARM.]\")\n",
    "parser.characters.remove(\"ARGH!!!\")\n",
    "parser.characters.remove(\"[FLASHBACK\")\n",
    "parser.characters.remove(\"FORTH EORLINGAS!!\")\n",
    "parser.characters.remove(\"[SLOW MOTION\")\n",
    "parser.characters.remove(\"[NIGHTFALL\")\n",
    "parser.characters.remove(\"]\")\n",
    "parser.characters.remove(\"[ARAGORN STARTS TO FOLLOW THE TRACKS, WITH LEGOLAS AND GIMLI BEHIND HIM. FLASHBACK\")\n",
    "parser.characters.remove(\"[NIGHTTIME\")\n",
    "parser.characters.remove(\"[HALDIR HACKS AT A FEW URUK AS HE TURNS TOWARDS\")\n",
    "parser.characters.remove(\"ARGH!!\")\n",
    "parser.characters.remove(\"\")\n",
    "\n",
    "for elem in list(parser.characters):\n",
    "    if \"V/0\" in elem:\n",
    "        parser.characters.remove(elem)\n",
    "    if elem.isdigit():\n",
    "        parser.characters.remove(elem)\n",
    "\n",
    "print len(parser.characters)\n",
    "\n",
    "characters = []\n",
    "for elem in parser.characters:\n",
    "    characters.append(elem)\n",
    "    print elem"
   ]
  },
  {
   "cell_type": "code",
   "execution_count": 4,
   "metadata": {
    "collapsed": true
   },
   "outputs": [],
   "source": [
    "import networkx as nx\n",
    "import matplotlib.pyplot as plt\n",
    "\n",
    "G = nx.Graph()\n",
    "\n",
    "# Add the nodes\n",
    "for char in characters:\n",
    "    G.add_node(char)"
   ]
  },
  {
   "cell_type": "code",
   "execution_count": 5,
   "metadata": {
    "collapsed": false
   },
   "outputs": [],
   "source": [
    "# Add the edges, find the scenes using the words \"EXT.\" and \"INT.\"\n",
    "class MyHTMLSceneParser(HTMLParser):\n",
    "    def __init__(self, characters):\n",
    "        HTMLParser.__init__(self)\n",
    "        self.is_b = False\n",
    "        self.is_i = False\n",
    "        self.characters = characters\n",
    "        self.scenes = []\n",
    "        self.char_in_scene = set()\n",
    "    \n",
    "    def handle_starttag(self, tag, attrs):\n",
    "        #print \"Encountered a start tag:\", tag\n",
    "        if tag == \"b\":\n",
    "            self.is_b = True\n",
    "        if tag == \"i\":\n",
    "            self.is_i = True\n",
    "        \n",
    "    def handle_endtag(self, tag):\n",
    "        #print \"Encountered an end tag :\", tag\n",
    "        if tag == \"b\":\n",
    "            self.is_b = False\n",
    "        if tag == \"i\":\n",
    "            self.is_i = False\n",
    "        \n",
    "    def handle_data(self, data):\n",
    "        #print \"Encountered some data  :\", data\n",
    "        if self.is_i and data[:5] == \"SCENE\":\n",
    "            self.scenes.append(self.char_in_scene)\n",
    "            self.char_in_scene = set()\n",
    "        else:\n",
    "            if self.is_b:\n",
    "                char = data.strip(\" ,.·;:\\\\\\\"/-)\")\n",
    "                if char in self.characters:\n",
    "                    self.char_in_scene.add(char)\n",
    "                \n",
    "                \n",
    "\n",
    "# Instantiate the parser and feed it the script.\n",
    "parser = MyHTMLSceneParser(characters)\n",
    "parser.feed(script)\n",
    "# Add the last scene.\n",
    "parser.scenes.append(parser.char_in_scene)\n",
    "\n",
    "all_scenes = parser.scenes\n"
   ]
  },
  {
   "cell_type": "code",
   "execution_count": 6,
   "metadata": {
    "collapsed": true
   },
   "outputs": [],
   "source": [
    "# Add the edges to the graph.\n",
    "\n",
    "for scene in parser.scenes:\n",
    "    for i, c in enumerate(list(scene)):\n",
    "        for j in range(i+1, len(scene)):\n",
    "            if G.has_edge(c, list(scene)[j]):\n",
    "                G[c][list(scene)[j]]['weight'] = G[c][list(scene)[j]]['weight'] + 1\n",
    "            else:\n",
    "                G.add_edge(c, list(scene)[j], weight=1)\n",
    "\n"
   ]
  },
  {
   "cell_type": "code",
   "execution_count": 7,
   "metadata": {
    "collapsed": false
   },
   "outputs": [
    {
     "name": "stdout",
     "output_type": "stream",
     "text": [
      "GALADRIEL\n"
     ]
    }
   ],
   "source": [
    "# Remove the nodes with degree 0.\n",
    "for char in characters:\n",
    "    if G.degree(char) == 0:\n",
    "        G.remove_node(char)\n",
    "        print char\n"
   ]
  },
  {
   "cell_type": "code",
   "execution_count": 8,
   "metadata": {
    "collapsed": false
   },
   "outputs": [
    {
     "data": {
      "text/plain": [
       "[('ARAGORN', 0.08530229767783107),\n",
       " ('THEODEN', 0.06721508466511847),\n",
       " ('GIMLI', 0.06346533028170398),\n",
       " ('FRODO', 0.052244450927206455),\n",
       " ('SAM', 0.039986309135781745),\n",
       " ('LEGOLAS', 0.03812206305223057),\n",
       " ('GAMLING', 0.037668804380131635),\n",
       " ('PIPPIN', 0.03453177926979454),\n",
       " ('MERRY', 0.03208470762302381),\n",
       " ('FARAMIR', 0.029132474867713434)]"
      ]
     },
     "execution_count": 8,
     "metadata": {},
     "output_type": "execute_result"
    }
   ],
   "source": [
    "x = nx.algorithms.pagerank(G)\n",
    "\n",
    "import operator\n",
    "sorted_x = sorted(x.items(), key=operator.itemgetter(1))\n",
    "sorted_x.reverse()\n",
    "sorted_x[:10]"
   ]
  },
  {
   "cell_type": "code",
   "execution_count": 9,
   "metadata": {
    "collapsed": false
   },
   "outputs": [
    {
     "data": {
      "text/plain": [
       "[('ELROND', 6),\n",
       " ('ARWEN', 6),\n",
       " ('REFUGEES', 5),\n",
       " ('MORWEN', 5),\n",
       " ('FREDA', 5),\n",
       " ('EOTHAIN', 5),\n",
       " ('OLD WOMAN', 5),\n",
       " ('MORDOR ORC', 4),\n",
       " ('MERRY', 4),\n",
       " ('GRISHNAKH', 4),\n",
       " ('PIPPIN', 4),\n",
       " ('SNAGA', 4),\n",
       " ('TREEBEARD', 4),\n",
       " ('MAUHUR', 4),\n",
       " ('UGLUK', 4),\n",
       " ('MAN-FLESH URUK', 4),\n",
       " ('CROWD', 3),\n",
       " ('DUNLAND MAN', 3),\n",
       " ('SARUMAN', 3),\n",
       " ('BEREG', 2),\n",
       " ('SOLDIER 1', 2),\n",
       " ('SOLDIER 2', 2),\n",
       " ('SOLDIER 3', 2),\n",
       " ('SOLDIER 4', 2),\n",
       " ('SOLDIER', 2),\n",
       " ('ARAGORN', 1),\n",
       " ('GANDALF', 1),\n",
       " ('SHARKU', 1),\n",
       " ('EOWYN', 1),\n",
       " ('THEODEN', 1),\n",
       " ('SOLDIERS', 1),\n",
       " ('GRIMA', 1),\n",
       " ('GAMLING', 1),\n",
       " ('HALDIR', 1),\n",
       " ('EOMER', 1),\n",
       " ('WOMAN', 1),\n",
       " ('HALETH', 1),\n",
       " ('LEGOLAS', 1),\n",
       " ('GIMLI', 1),\n",
       " ('HAMA', 1),\n",
       " ('ROHAN CAPTAIN', 1),\n",
       " ('WARG-RIDERS', 1),\n",
       " ('MAN-WITH-MISSING-EYE', 1),\n",
       " ('GOLLUM', 0),\n",
       " ('RANGER', 0),\n",
       " ('DAMROD', 0),\n",
       " ('FRODO', 0),\n",
       " ('BOROMIR', 0),\n",
       " ('GONDORIAN RANGER', 0),\n",
       " ('SAM', 0),\n",
       " ('FARAMIR', 0),\n",
       " ('RANGER 2', 0),\n",
       " ('SMEAGOL', 0),\n",
       " ('RANGER 1', 0),\n",
       " ('MADRIL', 0)]"
      ]
     },
     "execution_count": 9,
     "metadata": {},
     "output_type": "execute_result"
    }
   ],
   "source": [
    "import community\n",
    "\n",
    "com = community.best_partition(G)\n",
    "\n",
    "sorted_x = sorted(com.items(), key=operator.itemgetter(1))\n",
    "sorted_x.reverse()\n",
    "sorted_x"
   ]
  },
  {
   "cell_type": "code",
   "execution_count": 10,
   "metadata": {
    "collapsed": false
   },
   "outputs": [
    {
     "data": {
      "text/plain": [
       "[('THEODEN', 0.4074074074074074),\n",
       " ('ARAGORN', 0.37037037037037035),\n",
       " ('GIMLI', 0.2962962962962963),\n",
       " ('GAMLING', 0.24074074074074073),\n",
       " ('EOWYN', 0.2222222222222222),\n",
       " ('FRODO', 0.2222222222222222),\n",
       " ('LEGOLAS', 0.2222222222222222),\n",
       " ('FARAMIR', 0.18518518518518517),\n",
       " ('HAMA', 0.18518518518518517),\n",
       " ('GANDALF', 0.16666666666666666)]"
      ]
     },
     "execution_count": 10,
     "metadata": {},
     "output_type": "execute_result"
    }
   ],
   "source": [
    "x = nx.algorithms.degree_centrality(G)\n",
    "\n",
    "sorted_x = sorted(x.items(), key=operator.itemgetter(1))\n",
    "sorted_x.reverse()\n",
    "sorted_x[:10]"
   ]
  },
  {
   "cell_type": "code",
   "execution_count": 11,
   "metadata": {
    "collapsed": false
   },
   "outputs": [
    {
     "data": {
      "text/plain": [
       "[('GANDALF', 0.2772287111909753),\n",
       " ('FRODO', 0.25256231073841134),\n",
       " ('THEODEN', 0.18631490413461063),\n",
       " ('ARAGORN', 0.1637199821686195),\n",
       " ('GRIMA', 0.09087944433856382),\n",
       " ('REFUGEES', 0.07411164811584099),\n",
       " ('SARUMAN', 0.06009783368273934),\n",
       " ('GIMLI', 0.05063555902130326),\n",
       " ('EOWYN', 0.04285617325449611),\n",
       " ('SOLDIER', 0.03773584905660377)]"
      ]
     },
     "execution_count": 11,
     "metadata": {},
     "output_type": "execute_result"
    }
   ],
   "source": [
    "x = nx.algorithms.betweenness_centrality(G)\n",
    "\n",
    "sorted_x = sorted(x.items(), key=operator.itemgetter(1))\n",
    "sorted_x.reverse()\n",
    "sorted_x[:10]"
   ]
  },
  {
   "cell_type": "code",
   "execution_count": 12,
   "metadata": {
    "collapsed": true
   },
   "outputs": [],
   "source": [
    "# Save the network.\n",
    "nx.write_gexf(G, \"LOTRII2.gexf\")"
   ]
  },
  {
   "cell_type": "code",
   "execution_count": 12,
   "metadata": {
    "collapsed": false
   },
   "outputs": [
    {
     "name": "stdout",
     "output_type": "stream",
     "text": [
      "('ARAGORN', 93)\n",
      "('SAM', 71)\n",
      "('FRODO', 71)\n",
      "('GOLLUM', 67)\n",
      "('THEODEN', 63)\n",
      "('GIMLI', 57)\n",
      "('GANDALF', 36)\n",
      "('TREEBEARD', 30)\n",
      "('SMEAGOL', 29)\n",
      "('FARAMIR', 27)\n"
     ]
    }
   ],
   "source": [
    "import collections\n",
    "    \n",
    "# create a subclass and override the handler methods\n",
    "class MyHTMLSceneParser(HTMLParser):\n",
    "    def __init__(self, characters):\n",
    "        HTMLParser.__init__(self)\n",
    "        self.is_b = False\n",
    "        self.characters = characters\n",
    "        self.lines = []\n",
    "    \n",
    "    def handle_starttag(self, tag, attrs):\n",
    "        if tag == \"b\":\n",
    "            self.is_b = True\n",
    "        \n",
    "    def handle_endtag(self, tag):\n",
    "        if tag == \"b\":\n",
    "            self.is_b = False\n",
    "        \n",
    "    def handle_data(self, data):\n",
    "        if self.is_b:\n",
    "            char = data.strip(\" ,.·;:\\\\\\\"/-)\")\n",
    "            if char in self.characters:\n",
    "                self.lines.append(char)\n",
    "\n",
    "                \n",
    "\n",
    "# Instantiate the parser and feed it the script.\n",
    "parser = MyHTMLSceneParser(characters)\n",
    "parser.feed(script)\n",
    "\n",
    "counter = collections.Counter(parser.lines)\n",
    "for elem in counter.most_common(10):\n",
    "    print elem\n",
    "\n"
   ]
  },
  {
   "cell_type": "code",
   "execution_count": 13,
   "metadata": {
    "collapsed": false
   },
   "outputs": [
    {
     "data": {
      "text/html": [
       "\n",
       "           <script>\n",
       "               \n",
       "                function vct_load_lib(url, callback){\n",
       "                      if(typeof d3 !== 'undefined' &&\n",
       "                         url === 'http://d3js.org/d3.v3.min.js'){\n",
       "                        callback()\n",
       "                      }\n",
       "                      var s = document.createElement('script');\n",
       "                      s.src = url;\n",
       "                      s.async = true;\n",
       "                      s.onreadystatechange = s.onload = callback;\n",
       "                      s.onerror = function(){\n",
       "                        console.warn(\"failed to load library \" + url);\n",
       "                        };\n",
       "                      document.getElementsByTagName(\"head\")[0].appendChild(s);\n",
       "                };\n",
       "                var vincent_event = new CustomEvent(\n",
       "                  \"vincent_libs_loaded\",\n",
       "                  {bubbles: true, cancelable: true}\n",
       "                );\n",
       "                \n",
       "               function load_all_libs(){\n",
       "                  console.log('Loading Vincent libs...')\n",
       "                  vct_load_lib('http://d3js.org/d3.v3.min.js', function(){\n",
       "                  vct_load_lib('http://d3js.org/d3.geo.projection.v0.min.js', function(){\n",
       "                  vct_load_lib('http://wrobstory.github.io/d3-cloud/d3.layout.cloud.js', function(){\n",
       "                  vct_load_lib('http://wrobstory.github.io/vega/vega.v1.3.3.js', function(){\n",
       "                  window.dispatchEvent(vincent_event);\n",
       "                  });\n",
       "                  });\n",
       "                  });\n",
       "                  });\n",
       "               };\n",
       "               if(typeof define === \"function\" && define.amd){\n",
       "                    if (window['d3'] === undefined ||\n",
       "                        window['topojson'] === undefined){\n",
       "                        require.config(\n",
       "                            {paths: {\n",
       "                              d3: 'http://d3js.org/d3.v3.min',\n",
       "                              topojson: 'http://d3js.org/topojson.v1.min'\n",
       "                              }\n",
       "                            }\n",
       "                          );\n",
       "                        require([\"d3\"], function(d3){\n",
       "                            console.log('Loading Vincent from require.js...')\n",
       "                            window.d3 = d3;\n",
       "                            require([\"topojson\"], function(topojson){\n",
       "                                window.topojson = topojson;\n",
       "                                load_all_libs();\n",
       "                            });\n",
       "                        });\n",
       "                    } else {\n",
       "                        load_all_libs();\n",
       "                    };\n",
       "               }else{\n",
       "                    console.log('Require.js not found, loading manually...')\n",
       "                    load_all_libs();\n",
       "               };\n",
       "\n",
       "           </script>"
      ],
      "text/plain": [
       "<IPython.core.display.HTML object>"
      ]
     },
     "metadata": {},
     "output_type": "display_data"
    },
    {
     "data": {
      "text/html": [
       "<div id=\"vis0d204d5e177d4bf1a5fec2834259d8a3\"></div>\n",
       "<script>\n",
       "   ( function() {\n",
       "     var _do_plot = function() {\n",
       "       if (typeof vg === 'undefined') {\n",
       "         window.addEventListener('vincent_libs_loaded', _do_plot)\n",
       "         return;\n",
       "       }\n",
       "       vg.parse.spec({\"axes\": [{\"scale\": \"x\", \"title\": \"Character\", \"type\": \"x\"}, {\"scale\": \"y\", \"title\": \"# lines\", \"type\": \"y\"}], \"data\": [{\"name\": \"table\", \"values\": [{\"col\": \"data\", \"idx\": \"ARAGORN\", \"val\": 93}, {\"col\": \"data\", \"idx\": \"SAM\", \"val\": 71}, {\"col\": \"data\", \"idx\": \"FRODO\", \"val\": 71}, {\"col\": \"data\", \"idx\": \"GOLLUM\", \"val\": 67}, {\"col\": \"data\", \"idx\": \"THEODEN\", \"val\": 63}, {\"col\": \"data\", \"idx\": \"GIMLI\", \"val\": 57}, {\"col\": \"data\", \"idx\": \"GANDALF\", \"val\": 36}, {\"col\": \"data\", \"idx\": \"TREEBEARD\", \"val\": 30}, {\"col\": \"data\", \"idx\": \"SMEAGOL\", \"val\": 29}, {\"col\": \"data\", \"idx\": \"FARAMIR\", \"val\": 27}]}, {\"name\": \"stats\", \"source\": \"table\", \"transform\": [{\"keys\": [\"data.idx\"], \"type\": \"facet\"}, {\"type\": \"stats\", \"value\": \"data.val\"}]}], \"height\": 500, \"legends\": [], \"marks\": [{\"from\": {\"data\": \"table\", \"transform\": [{\"keys\": [\"data.col\"], \"type\": \"facet\"}, {\"height\": \"data.val\", \"point\": \"data.idx\", \"type\": \"stack\"}]}, \"marks\": [{\"properties\": {\"enter\": {\"fill\": {\"field\": \"data.col\", \"scale\": \"color\"}, \"width\": {\"band\": true, \"offset\": -1, \"scale\": \"x\"}, \"x\": {\"field\": \"data.idx\", \"scale\": \"x\"}, \"y\": {\"field\": \"y\", \"scale\": \"y\"}, \"y2\": {\"field\": \"y2\", \"scale\": \"y\"}}}, \"type\": \"rect\"}], \"type\": \"group\"}], \"padding\": \"auto\", \"scales\": [{\"domain\": {\"data\": \"table\", \"field\": \"data.idx\"}, \"name\": \"x\", \"padding\": 0.1, \"range\": \"width\", \"type\": \"ordinal\", \"zero\": false}, {\"domain\": {\"data\": \"stats\", \"field\": \"sum\"}, \"name\": \"y\", \"nice\": true, \"range\": \"height\"}, {\"domain\": {\"data\": \"table\", \"field\": \"data.col\"}, \"name\": \"color\", \"range\": [\"#b3e2cd\", \"#fdcdac\", \"#cbd5e8\", \"#f4cae4\", \"#e6f5c9\", \"#fff2ae\", \"#f1e2cc\", \"#cccccc\"], \"type\": \"ordinal\"}], \"width\": 960}, function(chart) {\n",
       "         chart({el: \"#vis0d204d5e177d4bf1a5fec2834259d8a3\"}).update();\n",
       "       });\n",
       "     };\n",
       "     _do_plot();\n",
       "   })();\n",
       "</script>\n",
       "<style>.vega canvas {width: 100%;}</style>\n",
       "        "
      ],
      "text/plain": [
       "<IPython.core.display.HTML object>"
      ]
     },
     "metadata": {},
     "output_type": "display_data"
    }
   ],
   "source": [
    "import vincent\n",
    "pre_data = counter.most_common(10)\n",
    "\n",
    "vincent.core.initialize_notebook()\n",
    "data = [x[1] for x in pre_data]\n",
    "index = [x[0] for x in pre_data]\n",
    "s = pd.Series(data=data, index=index)\n",
    "\n",
    "bars = vincent.Bar(s)\n",
    "bars.colors(brew='Pastel2')\n",
    "bars.axis_titles(x='Character', y='# lines')\n",
    "bars.scales['x'].padding = 0.1\n",
    "bars.display()"
   ]
  },
  {
   "cell_type": "code",
   "execution_count": 14,
   "metadata": {
    "collapsed": false
   },
   "outputs": [
    {
     "name": "stdout",
     "output_type": "stream",
     "text": [
      "('ARAGORN', 32)\n",
      "('GIMLI', 21)\n",
      "('FRODO', 19)\n",
      "('THEODEN', 18)\n",
      "('SAM', 16)\n",
      "('LEGOLAS', 13)\n",
      "('MERRY', 11)\n",
      "('GAMLING', 10)\n",
      "('EOWYN', 10)\n",
      "('TREEBEARD', 9)\n"
     ]
    }
   ],
   "source": [
    "# Character vs Number of scenes\n",
    "all_scenes2 = []\n",
    "for scene in all_scenes:\n",
    "    ls = list(scene)\n",
    "    all_scenes2.extend(ls)\n",
    "    \n",
    "counter = collections.Counter(all_scenes2)\n",
    "for elem in counter.most_common(10):\n",
    "    print elem\n"
   ]
  },
  {
   "cell_type": "code",
   "execution_count": 15,
   "metadata": {
    "collapsed": false
   },
   "outputs": [
    {
     "data": {
      "text/html": [
       "\n",
       "           <script>\n",
       "               \n",
       "                function vct_load_lib(url, callback){\n",
       "                      if(typeof d3 !== 'undefined' &&\n",
       "                         url === 'http://d3js.org/d3.v3.min.js'){\n",
       "                        callback()\n",
       "                      }\n",
       "                      var s = document.createElement('script');\n",
       "                      s.src = url;\n",
       "                      s.async = true;\n",
       "                      s.onreadystatechange = s.onload = callback;\n",
       "                      s.onerror = function(){\n",
       "                        console.warn(\"failed to load library \" + url);\n",
       "                        };\n",
       "                      document.getElementsByTagName(\"head\")[0].appendChild(s);\n",
       "                };\n",
       "                var vincent_event = new CustomEvent(\n",
       "                  \"vincent_libs_loaded\",\n",
       "                  {bubbles: true, cancelable: true}\n",
       "                );\n",
       "                \n",
       "               function load_all_libs(){\n",
       "                  console.log('Loading Vincent libs...')\n",
       "                  vct_load_lib('http://d3js.org/d3.v3.min.js', function(){\n",
       "                  vct_load_lib('http://d3js.org/d3.geo.projection.v0.min.js', function(){\n",
       "                  vct_load_lib('http://wrobstory.github.io/d3-cloud/d3.layout.cloud.js', function(){\n",
       "                  vct_load_lib('http://wrobstory.github.io/vega/vega.v1.3.3.js', function(){\n",
       "                  window.dispatchEvent(vincent_event);\n",
       "                  });\n",
       "                  });\n",
       "                  });\n",
       "                  });\n",
       "               };\n",
       "               if(typeof define === \"function\" && define.amd){\n",
       "                    if (window['d3'] === undefined ||\n",
       "                        window['topojson'] === undefined){\n",
       "                        require.config(\n",
       "                            {paths: {\n",
       "                              d3: 'http://d3js.org/d3.v3.min',\n",
       "                              topojson: 'http://d3js.org/topojson.v1.min'\n",
       "                              }\n",
       "                            }\n",
       "                          );\n",
       "                        require([\"d3\"], function(d3){\n",
       "                            console.log('Loading Vincent from require.js...')\n",
       "                            window.d3 = d3;\n",
       "                            require([\"topojson\"], function(topojson){\n",
       "                                window.topojson = topojson;\n",
       "                                load_all_libs();\n",
       "                            });\n",
       "                        });\n",
       "                    } else {\n",
       "                        load_all_libs();\n",
       "                    };\n",
       "               }else{\n",
       "                    console.log('Require.js not found, loading manually...')\n",
       "                    load_all_libs();\n",
       "               };\n",
       "\n",
       "           </script>"
      ],
      "text/plain": [
       "<IPython.core.display.HTML object>"
      ]
     },
     "metadata": {},
     "output_type": "display_data"
    },
    {
     "data": {
      "text/html": [
       "<div id=\"vis7ce87609822145cf995913b365ac0ed3\"></div>\n",
       "<script>\n",
       "   ( function() {\n",
       "     var _do_plot = function() {\n",
       "       if (typeof vg === 'undefined') {\n",
       "         window.addEventListener('vincent_libs_loaded', _do_plot)\n",
       "         return;\n",
       "       }\n",
       "       vg.parse.spec({\"axes\": [{\"scale\": \"x\", \"title\": \"Character\", \"type\": \"x\"}, {\"scale\": \"y\", \"title\": \"# scenes\", \"type\": \"y\"}], \"data\": [{\"name\": \"table\", \"values\": [{\"col\": \"data\", \"idx\": \"ARAGORN\", \"val\": 32}, {\"col\": \"data\", \"idx\": \"GIMLI\", \"val\": 21}, {\"col\": \"data\", \"idx\": \"FRODO\", \"val\": 19}, {\"col\": \"data\", \"idx\": \"THEODEN\", \"val\": 18}, {\"col\": \"data\", \"idx\": \"SAM\", \"val\": 16}, {\"col\": \"data\", \"idx\": \"LEGOLAS\", \"val\": 13}, {\"col\": \"data\", \"idx\": \"MERRY\", \"val\": 11}, {\"col\": \"data\", \"idx\": \"GAMLING\", \"val\": 10}, {\"col\": \"data\", \"idx\": \"EOWYN\", \"val\": 10}, {\"col\": \"data\", \"idx\": \"TREEBEARD\", \"val\": 9}]}, {\"name\": \"stats\", \"source\": \"table\", \"transform\": [{\"keys\": [\"data.idx\"], \"type\": \"facet\"}, {\"type\": \"stats\", \"value\": \"data.val\"}]}], \"height\": 500, \"legends\": [], \"marks\": [{\"from\": {\"data\": \"table\", \"transform\": [{\"keys\": [\"data.col\"], \"type\": \"facet\"}, {\"height\": \"data.val\", \"point\": \"data.idx\", \"type\": \"stack\"}]}, \"marks\": [{\"properties\": {\"enter\": {\"fill\": {\"field\": \"data.col\", \"scale\": \"color\"}, \"width\": {\"band\": true, \"offset\": -1, \"scale\": \"x\"}, \"x\": {\"field\": \"data.idx\", \"scale\": \"x\"}, \"y\": {\"field\": \"y\", \"scale\": \"y\"}, \"y2\": {\"field\": \"y2\", \"scale\": \"y\"}}}, \"type\": \"rect\"}], \"type\": \"group\"}], \"padding\": \"auto\", \"scales\": [{\"domain\": {\"data\": \"table\", \"field\": \"data.idx\"}, \"name\": \"x\", \"padding\": 0.1, \"range\": \"width\", \"type\": \"ordinal\", \"zero\": false}, {\"domain\": {\"data\": \"stats\", \"field\": \"sum\"}, \"name\": \"y\", \"nice\": true, \"range\": \"height\"}, {\"domain\": {\"data\": \"table\", \"field\": \"data.col\"}, \"name\": \"color\", \"range\": [\"#b3e2cd\", \"#fdcdac\", \"#cbd5e8\", \"#f4cae4\", \"#e6f5c9\", \"#fff2ae\", \"#f1e2cc\", \"#cccccc\"], \"type\": \"ordinal\"}], \"width\": 960}, function(chart) {\n",
       "         chart({el: \"#vis7ce87609822145cf995913b365ac0ed3\"}).update();\n",
       "       });\n",
       "     };\n",
       "     _do_plot();\n",
       "   })();\n",
       "</script>\n",
       "<style>.vega canvas {width: 100%;}</style>\n",
       "        "
      ],
      "text/plain": [
       "<IPython.core.display.HTML object>"
      ]
     },
     "metadata": {},
     "output_type": "display_data"
    }
   ],
   "source": [
    "import vincent\n",
    "pre_data = counter.most_common(10)\n",
    "\n",
    "vincent.core.initialize_notebook()\n",
    "data = [x[1] for x in pre_data]\n",
    "index = [x[0] for x in pre_data]\n",
    "s = pd.Series(data=data, index=index)\n",
    "\n",
    "bars = vincent.Bar(s)\n",
    "bars.colors(brew='Pastel2')\n",
    "bars.axis_titles(x='Character', y='# scenes')\n",
    "bars.scales['x'].padding = 0.1\n",
    "bars.display()"
   ]
  },
  {
   "cell_type": "code",
   "execution_count": null,
   "metadata": {
    "collapsed": false
   },
   "outputs": [],
   "source": []
  },
  {
   "cell_type": "code",
   "execution_count": null,
   "metadata": {
    "collapsed": false
   },
   "outputs": [],
   "source": []
  },
  {
   "cell_type": "code",
   "execution_count": null,
   "metadata": {
    "collapsed": false
   },
   "outputs": [],
   "source": []
  },
  {
   "cell_type": "code",
   "execution_count": null,
   "metadata": {
    "collapsed": false
   },
   "outputs": [],
   "source": []
  },
  {
   "cell_type": "code",
   "execution_count": null,
   "metadata": {
    "collapsed": false
   },
   "outputs": [],
   "source": []
  },
  {
   "cell_type": "code",
   "execution_count": null,
   "metadata": {
    "collapsed": true
   },
   "outputs": [],
   "source": []
  }
 ],
 "metadata": {
  "kernelspec": {
   "display_name": "Python 2",
   "language": "python",
   "name": "python2"
  },
  "language_info": {
   "codemirror_mode": {
    "name": "ipython",
    "version": 2
   },
   "file_extension": ".py",
   "mimetype": "text/x-python",
   "name": "python",
   "nbconvert_exporter": "python",
   "pygments_lexer": "ipython2",
   "version": "2.7.9"
  }
 },
 "nbformat": 4,
 "nbformat_minor": 0
}
