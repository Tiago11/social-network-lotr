{
 "cells": [
  {
   "cell_type": "code",
   "execution_count": 1,
   "metadata": {
    "collapsed": true
   },
   "outputs": [],
   "source": [
    "from HTMLParser import HTMLParser\n",
    "import numpy as np\n",
    "from __future__ import division\n",
    "import vincent\n",
    "import nltk\n",
    "from nltk.corpus import stopwords\n",
    "from nltk import FreqDist\n",
    "import pandas as pd"
   ]
  },
  {
   "cell_type": "code",
   "execution_count": 2,
   "metadata": {
    "collapsed": true
   },
   "outputs": [],
   "source": [
    "# Load the script\n",
    "with open('script_LOTRI.html', 'r') as myfile:\n",
    "    script=myfile.read().replace('\\n', '')\n",
    "\n",
    "# Modify the script to fix some issues.\n",
    "script = script.replace(\"FRO DO\", \"FRODO\")\n",
    "script = script.replace(\"STRIDER\", \"ARAGORN\")"
   ]
  },
  {
   "cell_type": "code",
   "execution_count": 3,
   "metadata": {
    "collapsed": false
   },
   "outputs": [
    {
     "name": "stdout",
     "output_type": "stream",
     "text": [
      "27\n",
      "GALADRIEL\n",
      "WITCH KING\n",
      "LURTZ\n",
      "BILBO\n",
      "CELEBORN\n",
      "PIPPIN\n",
      "GANDALF\n",
      "ELROND\n",
      "ODO PROUDFOOT\n",
      "BUTTERBUR\n",
      "SARUMAN\n",
      "GIMLI\n",
      "BLACK RIDER\n",
      "ARWEN\n",
      "SAM\n",
      "GOLLUM\n",
      "MERRY\n",
      "HOBBIT BOUNDER\n",
      "HALDIR\n",
      "BOROMIR\n",
      "ORC OVERSEER\n",
      "ARAGORN\n",
      "GATEKEEPER\n",
      "ISILDUR\n",
      "LEGOLAS\n",
      "FRODO\n",
      "FARMER MAGGOT\n"
     ]
    }
   ],
   "source": [
    "# Custom HTML Parser to parse the characters.\n",
    "class MyHTMLCharacterParser(HTMLParser):\n",
    "    def __init__(self):\n",
    "        HTMLParser.__init__(self)\n",
    "        self.is_b = False\n",
    "        self.characters = set()\n",
    "    \n",
    "    def handle_starttag(self, tag, attrs):\n",
    "        if tag == \"b\":\n",
    "            self.is_b = True\n",
    "\n",
    "    def handle_endtag(self, tag):\n",
    "        if tag == \"b\":\n",
    "            self.is_b = False\n",
    "\n",
    "    def handle_data(self, data):\n",
    "        if self.is_b == True:\n",
    "            if data[0] == \" \" and \":\" not in data and \"(\" not in data:\n",
    "                self.characters.add(data.strip(\" ,.·;:\\\\\\\"/-)\"))\n",
    "                \n",
    "\n",
    "# Instantiate the parser and feed it the script.\n",
    "parser = MyHTMLCharacterParser()\n",
    "parser.feed(script)\n",
    "\n",
    "# Clean the character list.\n",
    "parser.characters.remove(\"FRODO DISAPPEARS\")\n",
    "parser.characters.remove(\"FADE TO BLACK\")\n",
    "\n",
    "for elem in list(parser.characters):\n",
    "    if \"V/0\" in elem:\n",
    "        parser.characters.remove(elem)\n",
    "    if elem.isdigit():\n",
    "        parser.characters.remove(elem)\n",
    "\n",
    "print len(parser.characters)\n",
    "\n",
    "characters = []\n",
    "for elem in parser.characters:\n",
    "    characters.append(elem)\n",
    "    print elem"
   ]
  },
  {
   "cell_type": "code",
   "execution_count": 4,
   "metadata": {
    "collapsed": false
   },
   "outputs": [],
   "source": [
    "import networkx as nx\n",
    "import matplotlib.pyplot as plt\n",
    "\n",
    "G = nx.Graph()\n",
    "\n",
    "# Add the nodes\n",
    "for char in characters:\n",
    "    G.add_node(char)"
   ]
  },
  {
   "cell_type": "code",
   "execution_count": 5,
   "metadata": {
    "collapsed": true
   },
   "outputs": [],
   "source": [
    "# Add the edges, find the scenes using the words \"EXT.\" and \"INT.\"\n",
    "class MyHTMLSceneParser(HTMLParser):\n",
    "    def __init__(self, characters):\n",
    "        HTMLParser.__init__(self)\n",
    "        self.is_b = False\n",
    "        self.characters = characters\n",
    "        self.scenes = []\n",
    "        self.char_in_scene = set()\n",
    "    \n",
    "    def handle_starttag(self, tag, attrs):\n",
    "        if tag == \"b\":\n",
    "            self.is_b = True\n",
    "        \n",
    "    def handle_endtag(self, tag):\n",
    "        if tag == \"b\":\n",
    "            self.is_b = False\n",
    "        \n",
    "    def handle_data(self, data):\n",
    "        if data[:4] == \"EXT.\" or data[:4] == \"INT.\":\n",
    "            self.scenes.append(self.char_in_scene)\n",
    "            self.char_in_scene = set()\n",
    "        else:\n",
    "            if self.is_b:\n",
    "                char = data.strip(\" ,.·;:\\\\\\\"/-)\")\n",
    "                if char in self.characters:\n",
    "                    self.char_in_scene.add(char)\n",
    "                \n",
    "                \n",
    "\n",
    "# Instantiate the parser and feed it the script.\n",
    "parser = MyHTMLSceneParser(characters)\n",
    "parser.feed(script)\n",
    "# Add the last scene.\n",
    "parser.scenes.append(parser.char_in_scene)\n",
    "\n",
    "all_scenes = parser.scenes\n"
   ]
  },
  {
   "cell_type": "code",
   "execution_count": 6,
   "metadata": {
    "collapsed": true
   },
   "outputs": [],
   "source": [
    "# Add the edges to the graph.\n",
    "\n",
    "for scene in parser.scenes:\n",
    "    for i, c in enumerate(list(scene)):\n",
    "        for j in range(i+1, len(scene)):\n",
    "            if G.has_edge(c, list(scene)[j]):\n",
    "                G[c][list(scene)[j]]['weight'] = G[c][list(scene)[j]]['weight'] + 1\n",
    "            else:\n",
    "                G.add_edge(c, list(scene)[j], weight=1)\n",
    "\n"
   ]
  },
  {
   "cell_type": "code",
   "execution_count": 7,
   "metadata": {
    "collapsed": false
   },
   "outputs": [
    {
     "name": "stdout",
     "output_type": "stream",
     "text": [
      "CELEBORN\n",
      "HOBBIT BOUNDER\n"
     ]
    }
   ],
   "source": [
    "# Remove the nodes with degree 0.\n",
    "for char in characters:\n",
    "    if G.degree(char) == 0:\n",
    "        G.remove_node(char)\n",
    "        print char\n"
   ]
  },
  {
   "cell_type": "code",
   "execution_count": 8,
   "metadata": {
    "collapsed": false
   },
   "outputs": [
    {
     "data": {
      "text/plain": [
       "[('FRODO', 0.1112640227785102),\n",
       " ('SAM', 0.10622423833917934),\n",
       " ('GANDALF', 0.10021622405885808),\n",
       " ('ARAGORN', 0.09146293723316566),\n",
       " ('MERRY', 0.08186887211931439),\n",
       " ('PIPPIN', 0.06792813427238063),\n",
       " ('BOROMIR', 0.05476240988844253),\n",
       " ('GIMLI', 0.05441090564628471),\n",
       " ('LEGOLAS', 0.05135240404147857),\n",
       " ('FARMER MAGGOT', 0.04)]"
      ]
     },
     "execution_count": 8,
     "metadata": {},
     "output_type": "execute_result"
    }
   ],
   "source": [
    "x = nx.algorithms.pagerank(G)\n",
    "\n",
    "import operator\n",
    "sorted_x = sorted(x.items(), key=operator.itemgetter(1))\n",
    "sorted_x.reverse()\n",
    "sorted_x[:10]"
   ]
  },
  {
   "cell_type": "code",
   "execution_count": 9,
   "metadata": {
    "collapsed": false
   },
   "outputs": [
    {
     "data": {
      "text/plain": [
       "[('FARMER MAGGOT', 3),\n",
       " ('BLACK RIDER', 3),\n",
       " ('ARAGORN', 2),\n",
       " ('WITCH KING', 2),\n",
       " ('ARWEN', 2),\n",
       " ('LEGOLAS', 2),\n",
       " ('HALDIR', 2),\n",
       " ('BOROMIR', 2),\n",
       " ('LURTZ', 2),\n",
       " ('GIMLI', 2),\n",
       " ('ELROND', 1),\n",
       " ('GOLLUM', 1),\n",
       " ('GANDALF', 1),\n",
       " ('ISILDUR', 1),\n",
       " ('BILBO', 1),\n",
       " ('ORC OVERSEER', 1),\n",
       " ('SARUMAN', 1),\n",
       " ('GALADRIEL', 1),\n",
       " ('PIPPIN', 0),\n",
       " ('FRODO', 0),\n",
       " ('SAM', 0),\n",
       " ('BUTTERBUR', 0),\n",
       " ('ODO PROUDFOOT', 0),\n",
       " ('MERRY', 0),\n",
       " ('GATEKEEPER', 0)]"
      ]
     },
     "execution_count": 9,
     "metadata": {},
     "output_type": "execute_result"
    }
   ],
   "source": [
    "import community\n",
    "\n",
    "com = community.best_partition(G)\n",
    "\n",
    "sorted_x = sorted(com.items(), key=operator.itemgetter(1))\n",
    "sorted_x.reverse()\n",
    "sorted_x"
   ]
  },
  {
   "cell_type": "code",
   "execution_count": 10,
   "metadata": {
    "collapsed": false
   },
   "outputs": [
    {
     "data": {
      "text/plain": [
       "[('SAM', 0.6666666666666666),\n",
       " ('PIPPIN', 0.5833333333333333),\n",
       " ('FRODO', 0.5833333333333333),\n",
       " ('GANDALF', 0.5416666666666666),\n",
       " ('MERRY', 0.5416666666666666),\n",
       " ('ARAGORN', 0.5),\n",
       " ('BOROMIR', 0.4583333333333333),\n",
       " ('ELROND', 0.41666666666666663),\n",
       " ('LEGOLAS', 0.41666666666666663),\n",
       " ('GIMLI', 0.41666666666666663)]"
      ]
     },
     "execution_count": 10,
     "metadata": {},
     "output_type": "execute_result"
    }
   ],
   "source": [
    "x = nx.algorithms.degree_centrality(G)\n",
    "\n",
    "sorted_x = sorted(x.items(), key=operator.itemgetter(1))\n",
    "sorted_x.reverse()\n",
    "sorted_x[:10]"
   ]
  },
  {
   "cell_type": "code",
   "execution_count": 11,
   "metadata": {
    "collapsed": false
   },
   "outputs": [
    {
     "data": {
      "text/plain": [
       "[('GANDALF', 0.1690217391304348),\n",
       " ('SAM', 0.1306763285024155),\n",
       " ('FRODO', 0.11316425120772948),\n",
       " ('ELROND', 0.07608695652173914),\n",
       " ('ARWEN', 0.07608695652173914),\n",
       " ('SARUMAN', 0.07608695652173914),\n",
       " ('PIPPIN', 0.06455314009661835),\n",
       " ('BILBO', 0.04981884057971015),\n",
       " ('ARAGORN', 0.0434782608695652),\n",
       " ('MERRY', 0.03134057971014492)]"
      ]
     },
     "execution_count": 11,
     "metadata": {},
     "output_type": "execute_result"
    }
   ],
   "source": [
    "x = nx.algorithms.betweenness_centrality(G)\n",
    "\n",
    "sorted_x = sorted(x.items(), key=operator.itemgetter(1))\n",
    "sorted_x.reverse()\n",
    "sorted_x[:10]"
   ]
  },
  {
   "cell_type": "code",
   "execution_count": 38,
   "metadata": {
    "collapsed": true
   },
   "outputs": [],
   "source": [
    "# Save the network.\n",
    "nx.write_gexf(G, \"LOTRI.gexf\")"
   ]
  },
  {
   "cell_type": "code",
   "execution_count": 12,
   "metadata": {
    "collapsed": false
   },
   "outputs": [
    {
     "name": "stdout",
     "output_type": "stream",
     "text": [
      "('GANDALF', 125)\n",
      "('FRODO', 111)\n",
      "('ARAGORN', 63)\n",
      "('SAM', 53)\n",
      "('BILBO', 36)\n",
      "('BOROMIR', 36)\n",
      "('MERRY', 33)\n",
      "('PIPPIN', 31)\n",
      "('SARUMAN', 23)\n",
      "('GIMLI', 23)\n"
     ]
    }
   ],
   "source": [
    "import collections\n",
    "    \n",
    "# create a subclass and override the handler methods\n",
    "class MyHTMLSceneParser(HTMLParser):\n",
    "    def __init__(self, characters):\n",
    "        HTMLParser.__init__(self)\n",
    "        self.is_b = False\n",
    "        self.characters = characters\n",
    "        self.lines = []\n",
    "    \n",
    "    def handle_starttag(self, tag, attrs):\n",
    "        if tag == \"b\":\n",
    "            self.is_b = True\n",
    "        \n",
    "    def handle_endtag(self, tag):\n",
    "        if tag == \"b\":\n",
    "            self.is_b = False\n",
    "        \n",
    "    def handle_data(self, data):\n",
    "        if self.is_b:\n",
    "            char = data.strip(\" ,.·;:\\\\\\\"/-)\")\n",
    "            if char in self.characters:\n",
    "                self.lines.append(char)\n",
    "\n",
    "                \n",
    "\n",
    "# Instantiate the parser and feed it the script.\n",
    "parser = MyHTMLSceneParser(characters)\n",
    "parser.feed(script)\n",
    "\n",
    "counter = collections.Counter(parser.lines)\n",
    "for elem in counter.most_common(10):\n",
    "    print elem\n",
    "\n"
   ]
  },
  {
   "cell_type": "code",
   "execution_count": 13,
   "metadata": {
    "collapsed": false
   },
   "outputs": [
    {
     "data": {
      "text/html": [
       "\n",
       "           <script>\n",
       "               \n",
       "                function vct_load_lib(url, callback){\n",
       "                      if(typeof d3 !== 'undefined' &&\n",
       "                         url === 'http://d3js.org/d3.v3.min.js'){\n",
       "                        callback()\n",
       "                      }\n",
       "                      var s = document.createElement('script');\n",
       "                      s.src = url;\n",
       "                      s.async = true;\n",
       "                      s.onreadystatechange = s.onload = callback;\n",
       "                      s.onerror = function(){\n",
       "                        console.warn(\"failed to load library \" + url);\n",
       "                        };\n",
       "                      document.getElementsByTagName(\"head\")[0].appendChild(s);\n",
       "                };\n",
       "                var vincent_event = new CustomEvent(\n",
       "                  \"vincent_libs_loaded\",\n",
       "                  {bubbles: true, cancelable: true}\n",
       "                );\n",
       "                \n",
       "               function load_all_libs(){\n",
       "                  console.log('Loading Vincent libs...')\n",
       "                  vct_load_lib('http://d3js.org/d3.v3.min.js', function(){\n",
       "                  vct_load_lib('http://d3js.org/d3.geo.projection.v0.min.js', function(){\n",
       "                  vct_load_lib('http://wrobstory.github.io/d3-cloud/d3.layout.cloud.js', function(){\n",
       "                  vct_load_lib('http://wrobstory.github.io/vega/vega.v1.3.3.js', function(){\n",
       "                  window.dispatchEvent(vincent_event);\n",
       "                  });\n",
       "                  });\n",
       "                  });\n",
       "                  });\n",
       "               };\n",
       "               if(typeof define === \"function\" && define.amd){\n",
       "                    if (window['d3'] === undefined ||\n",
       "                        window['topojson'] === undefined){\n",
       "                        require.config(\n",
       "                            {paths: {\n",
       "                              d3: 'http://d3js.org/d3.v3.min',\n",
       "                              topojson: 'http://d3js.org/topojson.v1.min'\n",
       "                              }\n",
       "                            }\n",
       "                          );\n",
       "                        require([\"d3\"], function(d3){\n",
       "                            console.log('Loading Vincent from require.js...')\n",
       "                            window.d3 = d3;\n",
       "                            require([\"topojson\"], function(topojson){\n",
       "                                window.topojson = topojson;\n",
       "                                load_all_libs();\n",
       "                            });\n",
       "                        });\n",
       "                    } else {\n",
       "                        load_all_libs();\n",
       "                    };\n",
       "               }else{\n",
       "                    console.log('Require.js not found, loading manually...')\n",
       "                    load_all_libs();\n",
       "               };\n",
       "\n",
       "           </script>"
      ],
      "text/plain": [
       "<IPython.core.display.HTML object>"
      ]
     },
     "metadata": {},
     "output_type": "display_data"
    },
    {
     "data": {
      "text/html": [
       "<div id=\"visdb7fd6b800e04a16a09cbfda217fbb36\"></div>\n",
       "<script>\n",
       "   ( function() {\n",
       "     var _do_plot = function() {\n",
       "       if (typeof vg === 'undefined') {\n",
       "         window.addEventListener('vincent_libs_loaded', _do_plot)\n",
       "         return;\n",
       "       }\n",
       "       vg.parse.spec({\"axes\": [{\"scale\": \"x\", \"title\": \"Character\", \"type\": \"x\"}, {\"scale\": \"y\", \"title\": \"# lines\", \"type\": \"y\"}], \"data\": [{\"name\": \"table\", \"values\": [{\"col\": \"data\", \"idx\": \"GANDALF\", \"val\": 125}, {\"col\": \"data\", \"idx\": \"FRODO\", \"val\": 111}, {\"col\": \"data\", \"idx\": \"ARAGORN\", \"val\": 63}, {\"col\": \"data\", \"idx\": \"SAM\", \"val\": 53}, {\"col\": \"data\", \"idx\": \"BILBO\", \"val\": 36}, {\"col\": \"data\", \"idx\": \"BOROMIR\", \"val\": 36}, {\"col\": \"data\", \"idx\": \"MERRY\", \"val\": 33}, {\"col\": \"data\", \"idx\": \"PIPPIN\", \"val\": 31}, {\"col\": \"data\", \"idx\": \"SARUMAN\", \"val\": 23}, {\"col\": \"data\", \"idx\": \"GIMLI\", \"val\": 23}]}, {\"name\": \"stats\", \"source\": \"table\", \"transform\": [{\"keys\": [\"data.idx\"], \"type\": \"facet\"}, {\"type\": \"stats\", \"value\": \"data.val\"}]}], \"height\": 500, \"legends\": [], \"marks\": [{\"from\": {\"data\": \"table\", \"transform\": [{\"keys\": [\"data.col\"], \"type\": \"facet\"}, {\"height\": \"data.val\", \"point\": \"data.idx\", \"type\": \"stack\"}]}, \"marks\": [{\"properties\": {\"enter\": {\"fill\": {\"field\": \"data.col\", \"scale\": \"color\"}, \"width\": {\"band\": true, \"offset\": -1, \"scale\": \"x\"}, \"x\": {\"field\": \"data.idx\", \"scale\": \"x\"}, \"y\": {\"field\": \"y\", \"scale\": \"y\"}, \"y2\": {\"field\": \"y2\", \"scale\": \"y\"}}}, \"type\": \"rect\"}], \"type\": \"group\"}], \"padding\": \"auto\", \"scales\": [{\"domain\": {\"data\": \"table\", \"field\": \"data.idx\"}, \"name\": \"x\", \"padding\": 0.1, \"range\": \"width\", \"type\": \"ordinal\", \"zero\": false}, {\"domain\": {\"data\": \"stats\", \"field\": \"sum\"}, \"name\": \"y\", \"nice\": true, \"range\": \"height\"}, {\"domain\": {\"data\": \"table\", \"field\": \"data.col\"}, \"name\": \"color\", \"range\": [\"#b3e2cd\", \"#fdcdac\", \"#cbd5e8\", \"#f4cae4\", \"#e6f5c9\", \"#fff2ae\", \"#f1e2cc\", \"#cccccc\"], \"type\": \"ordinal\"}], \"width\": 960}, function(chart) {\n",
       "         chart({el: \"#visdb7fd6b800e04a16a09cbfda217fbb36\"}).update();\n",
       "       });\n",
       "     };\n",
       "     _do_plot();\n",
       "   })();\n",
       "</script>\n",
       "<style>.vega canvas {width: 100%;}</style>\n",
       "        "
      ],
      "text/plain": [
       "<IPython.core.display.HTML object>"
      ]
     },
     "metadata": {},
     "output_type": "display_data"
    }
   ],
   "source": [
    "import vincent\n",
    "pre_data = counter.most_common(10)\n",
    "\n",
    "vincent.core.initialize_notebook()\n",
    "data = [x[1] for x in pre_data]\n",
    "index = [x[0] for x in pre_data]\n",
    "s = pd.Series(data=data, index=index)\n",
    "\n",
    "bars = vincent.Bar(s)\n",
    "bars.colors(brew='Pastel2')\n",
    "bars.axis_titles(x='Character', y='# lines')\n",
    "bars.scales['x'].padding = 0.1\n",
    "bars.display()"
   ]
  },
  {
   "cell_type": "code",
   "execution_count": 14,
   "metadata": {
    "collapsed": false
   },
   "outputs": [
    {
     "name": "stdout",
     "output_type": "stream",
     "text": [
      "('FRODO', 43)\n",
      "('GANDALF', 40)\n",
      "('SAM', 27)\n",
      "('ARAGORN', 27)\n",
      "('MERRY', 18)\n",
      "('BOROMIR', 13)\n",
      "('PIPPIN', 13)\n",
      "('SARUMAN', 11)\n",
      "('GIMLI', 11)\n",
      "('LEGOLAS', 10)\n"
     ]
    }
   ],
   "source": [
    "# Character vs Number of scenes\n",
    "all_scenes2 = []\n",
    "for scene in all_scenes:\n",
    "    ls = list(scene)\n",
    "    all_scenes2.extend(ls)\n",
    "    \n",
    "counter = collections.Counter(all_scenes2)\n",
    "for elem in counter.most_common(10):\n",
    "    print elem\n"
   ]
  },
  {
   "cell_type": "code",
   "execution_count": 15,
   "metadata": {
    "collapsed": false
   },
   "outputs": [
    {
     "data": {
      "text/html": [
       "\n",
       "           <script>\n",
       "               \n",
       "                function vct_load_lib(url, callback){\n",
       "                      if(typeof d3 !== 'undefined' &&\n",
       "                         url === 'http://d3js.org/d3.v3.min.js'){\n",
       "                        callback()\n",
       "                      }\n",
       "                      var s = document.createElement('script');\n",
       "                      s.src = url;\n",
       "                      s.async = true;\n",
       "                      s.onreadystatechange = s.onload = callback;\n",
       "                      s.onerror = function(){\n",
       "                        console.warn(\"failed to load library \" + url);\n",
       "                        };\n",
       "                      document.getElementsByTagName(\"head\")[0].appendChild(s);\n",
       "                };\n",
       "                var vincent_event = new CustomEvent(\n",
       "                  \"vincent_libs_loaded\",\n",
       "                  {bubbles: true, cancelable: true}\n",
       "                );\n",
       "                \n",
       "               function load_all_libs(){\n",
       "                  console.log('Loading Vincent libs...')\n",
       "                  vct_load_lib('http://d3js.org/d3.v3.min.js', function(){\n",
       "                  vct_load_lib('http://d3js.org/d3.geo.projection.v0.min.js', function(){\n",
       "                  vct_load_lib('http://wrobstory.github.io/d3-cloud/d3.layout.cloud.js', function(){\n",
       "                  vct_load_lib('http://wrobstory.github.io/vega/vega.v1.3.3.js', function(){\n",
       "                  window.dispatchEvent(vincent_event);\n",
       "                  });\n",
       "                  });\n",
       "                  });\n",
       "                  });\n",
       "               };\n",
       "               if(typeof define === \"function\" && define.amd){\n",
       "                    if (window['d3'] === undefined ||\n",
       "                        window['topojson'] === undefined){\n",
       "                        require.config(\n",
       "                            {paths: {\n",
       "                              d3: 'http://d3js.org/d3.v3.min',\n",
       "                              topojson: 'http://d3js.org/topojson.v1.min'\n",
       "                              }\n",
       "                            }\n",
       "                          );\n",
       "                        require([\"d3\"], function(d3){\n",
       "                            console.log('Loading Vincent from require.js...')\n",
       "                            window.d3 = d3;\n",
       "                            require([\"topojson\"], function(topojson){\n",
       "                                window.topojson = topojson;\n",
       "                                load_all_libs();\n",
       "                            });\n",
       "                        });\n",
       "                    } else {\n",
       "                        load_all_libs();\n",
       "                    };\n",
       "               }else{\n",
       "                    console.log('Require.js not found, loading manually...')\n",
       "                    load_all_libs();\n",
       "               };\n",
       "\n",
       "           </script>"
      ],
      "text/plain": [
       "<IPython.core.display.HTML object>"
      ]
     },
     "metadata": {},
     "output_type": "display_data"
    },
    {
     "data": {
      "text/html": [
       "<div id=\"visff9e743de18c43e69c6f2e86da007b79\"></div>\n",
       "<script>\n",
       "   ( function() {\n",
       "     var _do_plot = function() {\n",
       "       if (typeof vg === 'undefined') {\n",
       "         window.addEventListener('vincent_libs_loaded', _do_plot)\n",
       "         return;\n",
       "       }\n",
       "       vg.parse.spec({\"axes\": [{\"scale\": \"x\", \"title\": \"Character\", \"type\": \"x\"}, {\"scale\": \"y\", \"title\": \"# scenes\", \"type\": \"y\"}], \"data\": [{\"name\": \"table\", \"values\": [{\"col\": \"data\", \"idx\": \"FRODO\", \"val\": 43}, {\"col\": \"data\", \"idx\": \"GANDALF\", \"val\": 40}, {\"col\": \"data\", \"idx\": \"SAM\", \"val\": 27}, {\"col\": \"data\", \"idx\": \"ARAGORN\", \"val\": 27}, {\"col\": \"data\", \"idx\": \"MERRY\", \"val\": 18}, {\"col\": \"data\", \"idx\": \"BOROMIR\", \"val\": 13}, {\"col\": \"data\", \"idx\": \"PIPPIN\", \"val\": 13}, {\"col\": \"data\", \"idx\": \"SARUMAN\", \"val\": 11}, {\"col\": \"data\", \"idx\": \"GIMLI\", \"val\": 11}, {\"col\": \"data\", \"idx\": \"LEGOLAS\", \"val\": 10}]}, {\"name\": \"stats\", \"source\": \"table\", \"transform\": [{\"keys\": [\"data.idx\"], \"type\": \"facet\"}, {\"type\": \"stats\", \"value\": \"data.val\"}]}], \"height\": 500, \"legends\": [], \"marks\": [{\"from\": {\"data\": \"table\", \"transform\": [{\"keys\": [\"data.col\"], \"type\": \"facet\"}, {\"height\": \"data.val\", \"point\": \"data.idx\", \"type\": \"stack\"}]}, \"marks\": [{\"properties\": {\"enter\": {\"fill\": {\"field\": \"data.col\", \"scale\": \"color\"}, \"width\": {\"band\": true, \"offset\": -1, \"scale\": \"x\"}, \"x\": {\"field\": \"data.idx\", \"scale\": \"x\"}, \"y\": {\"field\": \"y\", \"scale\": \"y\"}, \"y2\": {\"field\": \"y2\", \"scale\": \"y\"}}}, \"type\": \"rect\"}], \"type\": \"group\"}], \"padding\": \"auto\", \"scales\": [{\"domain\": {\"data\": \"table\", \"field\": \"data.idx\"}, \"name\": \"x\", \"padding\": 0.1, \"range\": \"width\", \"type\": \"ordinal\", \"zero\": false}, {\"domain\": {\"data\": \"stats\", \"field\": \"sum\"}, \"name\": \"y\", \"nice\": true, \"range\": \"height\"}, {\"domain\": {\"data\": \"table\", \"field\": \"data.col\"}, \"name\": \"color\", \"range\": [\"#b3e2cd\", \"#fdcdac\", \"#cbd5e8\", \"#f4cae4\", \"#e6f5c9\", \"#fff2ae\", \"#f1e2cc\", \"#cccccc\"], \"type\": \"ordinal\"}], \"width\": 960}, function(chart) {\n",
       "         chart({el: \"#visff9e743de18c43e69c6f2e86da007b79\"}).update();\n",
       "       });\n",
       "     };\n",
       "     _do_plot();\n",
       "   })();\n",
       "</script>\n",
       "<style>.vega canvas {width: 100%;}</style>\n",
       "        "
      ],
      "text/plain": [
       "<IPython.core.display.HTML object>"
      ]
     },
     "metadata": {},
     "output_type": "display_data"
    }
   ],
   "source": [
    "import vincent\n",
    "pre_data = counter.most_common(10)\n",
    "\n",
    "vincent.core.initialize_notebook()\n",
    "data = [x[1] for x in pre_data]\n",
    "index = [x[0] for x in pre_data]\n",
    "s = pd.Series(data=data, index=index)\n",
    "\n",
    "bars = vincent.Bar(s)\n",
    "bars.colors(brew='Pastel2')\n",
    "bars.axis_titles(x='Character', y='# scenes')\n",
    "bars.scales['x'].padding = 0.1\n",
    "bars.display()"
   ]
  },
  {
   "cell_type": "code",
   "execution_count": null,
   "metadata": {
    "collapsed": true
   },
   "outputs": [],
   "source": []
  }
 ],
 "metadata": {
  "kernelspec": {
   "display_name": "Python 2",
   "language": "python",
   "name": "python2"
  },
  "language_info": {
   "codemirror_mode": {
    "name": "ipython",
    "version": 2
   },
   "file_extension": ".py",
   "mimetype": "text/x-python",
   "name": "python",
   "nbconvert_exporter": "python",
   "pygments_lexer": "ipython2",
   "version": "2.7.9"
  }
 },
 "nbformat": 4,
 "nbformat_minor": 0
}
